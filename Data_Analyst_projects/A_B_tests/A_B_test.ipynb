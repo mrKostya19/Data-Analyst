{
 "cells": [
  {
   "cell_type": "markdown",
   "metadata": {
    "toc": true
   },
   "source": [
    "<h1>Содержание<span class=\"tocSkip\"></span></h1>\n",
    "<div class=\"toc\"><ul class=\"toc-item\"><li><span><a href=\"#Загрузка-и-знакомство-с-данными\" data-toc-modified-id=\"Загрузка-и-знакомство-с-данными-1\"><span class=\"toc-item-num\">1&nbsp;&nbsp;</span>Загрузка и знакомство с данными</a></span></li><li><span><a href=\"#Предобработка-данных\" data-toc-modified-id=\"Предобработка-данных-2\"><span class=\"toc-item-num\">2&nbsp;&nbsp;</span>Предобработка данных</a></span></li><li><span><a href=\"#Проверка-данных-на-логику\" data-toc-modified-id=\"Проверка-данных-на-логику-3\"><span class=\"toc-item-num\">3&nbsp;&nbsp;</span>Проверка данных на логику</a></span></li><li><span><a href=\"#Приоритизация-гипотез\" data-toc-modified-id=\"Приоритизация-гипотез-4\"><span class=\"toc-item-num\">4&nbsp;&nbsp;</span>Приоритизация гипотез</a></span><ul class=\"toc-item\"><li><span><a href=\"#Применение-фреймворка-ICE\" data-toc-modified-id=\"Применение-фреймворка-ICE-4.1\"><span class=\"toc-item-num\">4.1&nbsp;&nbsp;</span>Применение фреймворка ICE</a></span></li><li><span><a href=\"#Применение-фреймворка-RICE\" data-toc-modified-id=\"Применение-фреймворка-RICE-4.2\"><span class=\"toc-item-num\">4.2&nbsp;&nbsp;</span>Применение фреймворка RICE</a></span></li><li><span><a href=\"#Сравнение-результатов\" data-toc-modified-id=\"Сравнение-результатов-4.3\"><span class=\"toc-item-num\">4.3&nbsp;&nbsp;</span>Сравнение результатов</a></span></li></ul></li><li><span><a href=\"#Анализ-A/B-теста\" data-toc-modified-id=\"Анализ-A/B-теста-5\"><span class=\"toc-item-num\">5&nbsp;&nbsp;</span>Анализ A/B-теста</a></span><ul class=\"toc-item\"><li><span><a href=\"#Оценка-распределения-показателей-контрольной-и-тестовой-групп\" data-toc-modified-id=\"Оценка-распределения-показателей-контрольной-и-тестовой-групп-5.1\"><span class=\"toc-item-num\">5.1&nbsp;&nbsp;</span>Оценка распределения показателей контрольной и тестовой групп</a></span></li><li><span><a href=\"#Определение-выбросов-в-данных\" data-toc-modified-id=\"Определение-выбросов-в-данных-5.2\"><span class=\"toc-item-num\">5.2&nbsp;&nbsp;</span>Определение выбросов в данных</a></span></li><li><span><a href=\"#Расчет-статистической-значимости-по-&quot;сырым&quot;-данным\" data-toc-modified-id=\"Расчет-статистической-значимости-по-&quot;сырым&quot;-данным-5.3\"><span class=\"toc-item-num\">5.3&nbsp;&nbsp;</span>Расчет статистической значимости по \"сырым\" данным</a></span></li><li><span><a href=\"#Расчет-статистической-значимости-по-&quot;очищенным&quot;-данным\" data-toc-modified-id=\"Расчет-статистической-значимости-по-&quot;очищенным&quot;-данным-5.4\"><span class=\"toc-item-num\">5.4&nbsp;&nbsp;</span>Расчет статистической значимости по \"очищенным\" данным</a></span></li><li><span><a href=\"#Принятие-решения-по-оцениваемому-тесту\" data-toc-modified-id=\"Принятие-решения-по-оцениваемому-тесту-5.5\"><span class=\"toc-item-num\">5.5&nbsp;&nbsp;</span>Принятие решения по оцениваемому тесту</a></span></li></ul></li><li><span><a href=\"#Вывод-и-рекомендации\" data-toc-modified-id=\"Вывод-и-рекомендации-6\"><span class=\"toc-item-num\">6&nbsp;&nbsp;</span>Вывод и рекомендации</a></span></li></ul></div>"
   ]
  },
  {
   "cell_type": "markdown",
   "metadata": {},
   "source": [
    "# A/B-тест крупного интернет-магазина\n",
    "\n",
    "Заказчиком является крупный интернет - магазин, который поставил задачу: учеличить выручку. С отделом маркетинга был подготовлен список гипотез, позволяющих достичь указанной цели. <br>\n",
    "\n",
    "Необходимо приоритизировать гипотезы, запустить A/B-тест и выполнить анализ полученных результатов. <br>\n",
    "\n",
    "Исходные данные представлены тремя датасетами:\n",
    "\n",
    "1. `hypothesis`:\n",
    "- Hypothesis — краткое описание гипотезы;\n",
    "- Reach — охват пользователей по 10-балльной шкале;\n",
    "- Impact — влияние на пользователей по 10-балльной шкале;\n",
    "- Confidence — уверенность в гипотезе по 10-балльной шкале;\n",
    "- Efforts — затраты ресурсов на проверку гипотезы по 10-балльной шкале.\n",
    "\n",
    "2. `orders`:\n",
    "- transactionId — идентификатор заказа;\n",
    "- visitorId — идентификатор пользователя, совершившего заказ;\n",
    "- date — дата, когда был совершён заказ;\n",
    "- revenue — выручка заказа;\n",
    "- group — группа A/B-теста, в которую попал заказ.\n",
    "\n",
    "3. `visitors`:\n",
    "- date — дата;\n",
    "- group — группа A/B-теста;\n",
    "- visitors — количество пользователей в указанную дату в указанной группе A/B-теста"
   ]
  },
  {
   "cell_type": "markdown",
   "metadata": {},
   "source": [
    "### Загрузка и знакомство с данными"
   ]
  },
  {
   "cell_type": "code",
   "execution_count": 1,
   "metadata": {},
   "outputs": [],
   "source": [
    "# Импорт необходимых библиотек\n",
    "import pandas as pd\n",
    "import numpy as np\n",
    "import matplotlib.pyplot as plt\n",
    "import datetime as dt\n",
    "import scipy.stats as stats"
   ]
  },
  {
   "cell_type": "code",
   "execution_count": 2,
   "metadata": {},
   "outputs": [],
   "source": [
    "# Загрузка файлов с локального ПК и платформы Яндекс Практикум\n",
    "try:\n",
    "    hypothesis, orders, visitors = (pd.read_csv('D:\\Учеба\\Аналитик данных\\Проекты\\Проект 7 A-B тест\\\\hypothesis.csv'),\n",
    "                                    pd.read_csv('D:\\Учеба\\Аналитик данных\\Проекты\\Проект 7 A-B тест\\\\orders.csv'),\n",
    "                                    pd.read_csv('D:\\Учеба\\Аналитик данных\\Проекты\\Проект 7 A-B тест\\\\visitors.csv')\n",
    "                                    )\n",
    "except:\n",
    "    hypothesis, orders, visitors = (pd.read_csv('/datasets/hypothesis.csv'),\n",
    "                                    pd.read_csv('/datasets/orders.csv'),\n",
    "                                    pd.read_csv('/datasets/visitors.csv')\n",
    "                                    ) "
   ]
  },
  {
   "cell_type": "code",
   "execution_count": 3,
   "metadata": {},
   "outputs": [],
   "source": [
    "# Создадим функцию для получения общей информации о датафрейме\n",
    "def info(data):\n",
    "    display(data.head())\n",
    "    display(data.info())\n",
    "    display(data.isna().sum())\n",
    "    print(f'Количество полных дубликатов: {data.duplicated().sum()}')"
   ]
  },
  {
   "cell_type": "code",
   "execution_count": 4,
   "metadata": {},
   "outputs": [],
   "source": [
    "# Снимем ограничение на ширину отображаемого столбца\n",
    "pd.set_option('display.max_colwidth', None)"
   ]
  },
  {
   "cell_type": "code",
   "execution_count": 5,
   "metadata": {},
   "outputs": [
    {
     "data": {
      "text/html": [
       "<div>\n",
       "<style scoped>\n",
       "    .dataframe tbody tr th:only-of-type {\n",
       "        vertical-align: middle;\n",
       "    }\n",
       "\n",
       "    .dataframe tbody tr th {\n",
       "        vertical-align: top;\n",
       "    }\n",
       "\n",
       "    .dataframe thead th {\n",
       "        text-align: right;\n",
       "    }\n",
       "</style>\n",
       "<table border=\"1\" class=\"dataframe\">\n",
       "  <thead>\n",
       "    <tr style=\"text-align: right;\">\n",
       "      <th></th>\n",
       "      <th>Hypothesis</th>\n",
       "      <th>Reach</th>\n",
       "      <th>Impact</th>\n",
       "      <th>Confidence</th>\n",
       "      <th>Efforts</th>\n",
       "    </tr>\n",
       "  </thead>\n",
       "  <tbody>\n",
       "    <tr>\n",
       "      <th>0</th>\n",
       "      <td>Добавить два новых канала привлечения трафика, что позволит привлекать на 30% больше пользователей</td>\n",
       "      <td>3</td>\n",
       "      <td>10</td>\n",
       "      <td>8</td>\n",
       "      <td>6</td>\n",
       "    </tr>\n",
       "    <tr>\n",
       "      <th>1</th>\n",
       "      <td>Запустить собственную службу доставки, что сократит срок доставки заказов</td>\n",
       "      <td>2</td>\n",
       "      <td>5</td>\n",
       "      <td>4</td>\n",
       "      <td>10</td>\n",
       "    </tr>\n",
       "    <tr>\n",
       "      <th>2</th>\n",
       "      <td>Добавить блоки рекомендаций товаров на сайт интернет магазина, чтобы повысить конверсию и средний чек заказа</td>\n",
       "      <td>8</td>\n",
       "      <td>3</td>\n",
       "      <td>7</td>\n",
       "      <td>3</td>\n",
       "    </tr>\n",
       "    <tr>\n",
       "      <th>3</th>\n",
       "      <td>Изменить структура категорий, что увеличит конверсию, т.к. пользователи быстрее найдут нужный товар</td>\n",
       "      <td>8</td>\n",
       "      <td>3</td>\n",
       "      <td>3</td>\n",
       "      <td>8</td>\n",
       "    </tr>\n",
       "    <tr>\n",
       "      <th>4</th>\n",
       "      <td>Изменить цвет фона главной страницы, чтобы увеличить вовлеченность пользователей</td>\n",
       "      <td>3</td>\n",
       "      <td>1</td>\n",
       "      <td>1</td>\n",
       "      <td>1</td>\n",
       "    </tr>\n",
       "  </tbody>\n",
       "</table>\n",
       "</div>"
      ],
      "text/plain": [
       "                                                                                                     Hypothesis  \\\n",
       "0            Добавить два новых канала привлечения трафика, что позволит привлекать на 30% больше пользователей   \n",
       "1                                     Запустить собственную службу доставки, что сократит срок доставки заказов   \n",
       "2  Добавить блоки рекомендаций товаров на сайт интернет магазина, чтобы повысить конверсию и средний чек заказа   \n",
       "3           Изменить структура категорий, что увеличит конверсию, т.к. пользователи быстрее найдут нужный товар   \n",
       "4                              Изменить цвет фона главной страницы, чтобы увеличить вовлеченность пользователей   \n",
       "\n",
       "   Reach  Impact  Confidence  Efforts  \n",
       "0      3      10           8        6  \n",
       "1      2       5           4       10  \n",
       "2      8       3           7        3  \n",
       "3      8       3           3        8  \n",
       "4      3       1           1        1  "
      ]
     },
     "metadata": {},
     "output_type": "display_data"
    },
    {
     "name": "stdout",
     "output_type": "stream",
     "text": [
      "<class 'pandas.core.frame.DataFrame'>\n",
      "RangeIndex: 9 entries, 0 to 8\n",
      "Data columns (total 5 columns):\n",
      " #   Column      Non-Null Count  Dtype \n",
      "---  ------      --------------  ----- \n",
      " 0   Hypothesis  9 non-null      object\n",
      " 1   Reach       9 non-null      int64 \n",
      " 2   Impact      9 non-null      int64 \n",
      " 3   Confidence  9 non-null      int64 \n",
      " 4   Efforts     9 non-null      int64 \n",
      "dtypes: int64(4), object(1)\n",
      "memory usage: 488.0+ bytes\n"
     ]
    },
    {
     "data": {
      "text/plain": [
       "None"
      ]
     },
     "metadata": {},
     "output_type": "display_data"
    },
    {
     "data": {
      "text/plain": [
       "Hypothesis    0\n",
       "Reach         0\n",
       "Impact        0\n",
       "Confidence    0\n",
       "Efforts       0\n",
       "dtype: int64"
      ]
     },
     "metadata": {},
     "output_type": "display_data"
    },
    {
     "name": "stdout",
     "output_type": "stream",
     "text": [
      "Количество полных дубликатов: 0\n"
     ]
    }
   ],
   "source": [
    "# Применим созданную функцию к первому датафрейму\n",
    "info(hypothesis)"
   ]
  },
  {
   "cell_type": "markdown",
   "metadata": {},
   "source": [
    "<div style=\"border:solid Green 2px; padding: 20px\">\n",
    "    \n",
    "В данном датасете не обнаружено проблем, за исключением названия столбцов - необходимо привести их в соответствие со стилистическими нормами"
   ]
  },
  {
   "cell_type": "code",
   "execution_count": 6,
   "metadata": {},
   "outputs": [
    {
     "data": {
      "text/html": [
       "<div>\n",
       "<style scoped>\n",
       "    .dataframe tbody tr th:only-of-type {\n",
       "        vertical-align: middle;\n",
       "    }\n",
       "\n",
       "    .dataframe tbody tr th {\n",
       "        vertical-align: top;\n",
       "    }\n",
       "\n",
       "    .dataframe thead th {\n",
       "        text-align: right;\n",
       "    }\n",
       "</style>\n",
       "<table border=\"1\" class=\"dataframe\">\n",
       "  <thead>\n",
       "    <tr style=\"text-align: right;\">\n",
       "      <th></th>\n",
       "      <th>transactionId</th>\n",
       "      <th>visitorId</th>\n",
       "      <th>date</th>\n",
       "      <th>revenue</th>\n",
       "      <th>group</th>\n",
       "    </tr>\n",
       "  </thead>\n",
       "  <tbody>\n",
       "    <tr>\n",
       "      <th>0</th>\n",
       "      <td>3667963787</td>\n",
       "      <td>3312258926</td>\n",
       "      <td>2019-08-15</td>\n",
       "      <td>1650</td>\n",
       "      <td>B</td>\n",
       "    </tr>\n",
       "    <tr>\n",
       "      <th>1</th>\n",
       "      <td>2804400009</td>\n",
       "      <td>3642806036</td>\n",
       "      <td>2019-08-15</td>\n",
       "      <td>730</td>\n",
       "      <td>B</td>\n",
       "    </tr>\n",
       "    <tr>\n",
       "      <th>2</th>\n",
       "      <td>2961555356</td>\n",
       "      <td>4069496402</td>\n",
       "      <td>2019-08-15</td>\n",
       "      <td>400</td>\n",
       "      <td>A</td>\n",
       "    </tr>\n",
       "    <tr>\n",
       "      <th>3</th>\n",
       "      <td>3797467345</td>\n",
       "      <td>1196621759</td>\n",
       "      <td>2019-08-15</td>\n",
       "      <td>9759</td>\n",
       "      <td>B</td>\n",
       "    </tr>\n",
       "    <tr>\n",
       "      <th>4</th>\n",
       "      <td>2282983706</td>\n",
       "      <td>2322279887</td>\n",
       "      <td>2019-08-15</td>\n",
       "      <td>2308</td>\n",
       "      <td>B</td>\n",
       "    </tr>\n",
       "  </tbody>\n",
       "</table>\n",
       "</div>"
      ],
      "text/plain": [
       "   transactionId   visitorId        date  revenue group\n",
       "0     3667963787  3312258926  2019-08-15     1650     B\n",
       "1     2804400009  3642806036  2019-08-15      730     B\n",
       "2     2961555356  4069496402  2019-08-15      400     A\n",
       "3     3797467345  1196621759  2019-08-15     9759     B\n",
       "4     2282983706  2322279887  2019-08-15     2308     B"
      ]
     },
     "metadata": {},
     "output_type": "display_data"
    },
    {
     "name": "stdout",
     "output_type": "stream",
     "text": [
      "<class 'pandas.core.frame.DataFrame'>\n",
      "RangeIndex: 1197 entries, 0 to 1196\n",
      "Data columns (total 5 columns):\n",
      " #   Column         Non-Null Count  Dtype \n",
      "---  ------         --------------  ----- \n",
      " 0   transactionId  1197 non-null   int64 \n",
      " 1   visitorId      1197 non-null   int64 \n",
      " 2   date           1197 non-null   object\n",
      " 3   revenue        1197 non-null   int64 \n",
      " 4   group          1197 non-null   object\n",
      "dtypes: int64(3), object(2)\n",
      "memory usage: 46.9+ KB\n"
     ]
    },
    {
     "data": {
      "text/plain": [
       "None"
      ]
     },
     "metadata": {},
     "output_type": "display_data"
    },
    {
     "data": {
      "text/plain": [
       "transactionId    0\n",
       "visitorId        0\n",
       "date             0\n",
       "revenue          0\n",
       "group            0\n",
       "dtype: int64"
      ]
     },
     "metadata": {},
     "output_type": "display_data"
    },
    {
     "name": "stdout",
     "output_type": "stream",
     "text": [
      "Количество полных дубликатов: 0\n"
     ]
    }
   ],
   "source": [
    "# Применим созданную функцию ко второму датафрейму\n",
    "info(orders)"
   ]
  },
  {
   "cell_type": "markdown",
   "metadata": {},
   "source": [
    "<div style=\"border:solid Green 2px; padding: 20px\">\n",
    "    \n",
    "Во втором датасете требуется корректировка типа данных в столбце `date` - из `object` в `datetime`. Также следует провести проверку данных на логику: чтобы в разных группах не было одинаковых пользователей, которые могли видеть обе версии."
   ]
  },
  {
   "cell_type": "code",
   "execution_count": 7,
   "metadata": {},
   "outputs": [
    {
     "data": {
      "text/html": [
       "<div>\n",
       "<style scoped>\n",
       "    .dataframe tbody tr th:only-of-type {\n",
       "        vertical-align: middle;\n",
       "    }\n",
       "\n",
       "    .dataframe tbody tr th {\n",
       "        vertical-align: top;\n",
       "    }\n",
       "\n",
       "    .dataframe thead th {\n",
       "        text-align: right;\n",
       "    }\n",
       "</style>\n",
       "<table border=\"1\" class=\"dataframe\">\n",
       "  <thead>\n",
       "    <tr style=\"text-align: right;\">\n",
       "      <th></th>\n",
       "      <th>date</th>\n",
       "      <th>group</th>\n",
       "      <th>visitors</th>\n",
       "    </tr>\n",
       "  </thead>\n",
       "  <tbody>\n",
       "    <tr>\n",
       "      <th>0</th>\n",
       "      <td>2019-08-01</td>\n",
       "      <td>A</td>\n",
       "      <td>719</td>\n",
       "    </tr>\n",
       "    <tr>\n",
       "      <th>1</th>\n",
       "      <td>2019-08-02</td>\n",
       "      <td>A</td>\n",
       "      <td>619</td>\n",
       "    </tr>\n",
       "    <tr>\n",
       "      <th>2</th>\n",
       "      <td>2019-08-03</td>\n",
       "      <td>A</td>\n",
       "      <td>507</td>\n",
       "    </tr>\n",
       "    <tr>\n",
       "      <th>3</th>\n",
       "      <td>2019-08-04</td>\n",
       "      <td>A</td>\n",
       "      <td>717</td>\n",
       "    </tr>\n",
       "    <tr>\n",
       "      <th>4</th>\n",
       "      <td>2019-08-05</td>\n",
       "      <td>A</td>\n",
       "      <td>756</td>\n",
       "    </tr>\n",
       "  </tbody>\n",
       "</table>\n",
       "</div>"
      ],
      "text/plain": [
       "         date group  visitors\n",
       "0  2019-08-01     A       719\n",
       "1  2019-08-02     A       619\n",
       "2  2019-08-03     A       507\n",
       "3  2019-08-04     A       717\n",
       "4  2019-08-05     A       756"
      ]
     },
     "metadata": {},
     "output_type": "display_data"
    },
    {
     "name": "stdout",
     "output_type": "stream",
     "text": [
      "<class 'pandas.core.frame.DataFrame'>\n",
      "RangeIndex: 62 entries, 0 to 61\n",
      "Data columns (total 3 columns):\n",
      " #   Column    Non-Null Count  Dtype \n",
      "---  ------    --------------  ----- \n",
      " 0   date      62 non-null     object\n",
      " 1   group     62 non-null     object\n",
      " 2   visitors  62 non-null     int64 \n",
      "dtypes: int64(1), object(2)\n",
      "memory usage: 1.6+ KB\n"
     ]
    },
    {
     "data": {
      "text/plain": [
       "None"
      ]
     },
     "metadata": {},
     "output_type": "display_data"
    },
    {
     "data": {
      "text/plain": [
       "date        0\n",
       "group       0\n",
       "visitors    0\n",
       "dtype: int64"
      ]
     },
     "metadata": {},
     "output_type": "display_data"
    },
    {
     "name": "stdout",
     "output_type": "stream",
     "text": [
      "Количество полных дубликатов: 0\n"
     ]
    }
   ],
   "source": [
    "info(visitors)"
   ]
  },
  {
   "cell_type": "markdown",
   "metadata": {},
   "source": [
    "<div style=\"border:solid Green 2px; padding: 20px\">\n",
    "    \n",
    "Во последнем датасете также требуется корректировка типа данных в столбце `date` - из `object` в `datetime`"
   ]
  },
  {
   "cell_type": "markdown",
   "metadata": {},
   "source": [
    "### Предобработка данных"
   ]
  },
  {
   "cell_type": "code",
   "execution_count": 8,
   "metadata": {},
   "outputs": [],
   "source": [
    "# Приводим названия столбцов первого датафрейма к строчным буквам\n",
    "hypothesis.columns = hypothesis.columns.str.lower()"
   ]
  },
  {
   "cell_type": "code",
   "execution_count": 9,
   "metadata": {},
   "outputs": [],
   "source": [
    "# Корректируем тип данных в ранее определенных столбцах\n",
    "visitors['date'] = pd.to_datetime(visitors['date'])\n",
    "orders['date'] = pd.to_datetime(orders['date'])"
   ]
  },
  {
   "cell_type": "markdown",
   "metadata": {},
   "source": [
    "<div style=\"border:solid Green 2px; padding: 20px\">\n",
    "    \n",
    "**Вывод:** Датасеты подготовлены к дальнейшей работе - названия столбцов приведены в соответствии со стилистическими нормами; скорректирован тип данных в столбцах, требующих этого"
   ]
  },
  {
   "cell_type": "markdown",
   "metadata": {},
   "source": [
    "### Проверка данных на логику"
   ]
  },
  {
   "cell_type": "code",
   "execution_count": 10,
   "metadata": {},
   "outputs": [],
   "source": [
    "# Определим ID посетителей в каждой группе\n",
    "visitors_A = orders[orders['group'] == 'A']['visitorId'].drop_duplicates()\n",
    "visitors_B = orders[orders['group'] == 'B']['visitorId'].drop_duplicates()"
   ]
  },
  {
   "cell_type": "code",
   "execution_count": 11,
   "metadata": {},
   "outputs": [
    {
     "name": "stdout",
     "output_type": "stream",
     "text": [
      "Количество пользователей, попавших в обе группы: 58\n",
      "Доля пользователей, попавших в обе группы, относительно общего количества: 5.6%\n"
     ]
    }
   ],
   "source": [
    "# Определим количество и долю \"бракованных\" пользователей\n",
    "visitors_A_B = visitors_A[visitors_A.isin(visitors_B)]\n",
    "share_A_B = visitors_A_B.count() / orders['visitorId'].drop_duplicates().count() * 100\n",
    "\n",
    "print(f'Количество пользователей, попавших в обе группы: {visitors_A_B.count()}')\n",
    "print(f'Доля пользователей, попавших в обе группы, относительно общего количества: {round(share_A_B, 1)}%')"
   ]
  },
  {
   "cell_type": "markdown",
   "metadata": {},
   "source": [
    "<div style=\"border:solid Green 2px; padding: 20px\">\n",
    "    \n",
    "Довольно большое количество пользователей (почти 6% от общего числа) увидели оба варианта страницы. По данным пользователям нельзя судить на основании какой страницы они приняли решение о покупке, поэтому следует удалить такие записи из обеих групп, чтобы получить более чистые, реальные данные. В таком случае конверсия из посетителя в покупателя пропорционально снизится для обеих групп на долю \"дублированных\" пользователей."
   ]
  },
  {
   "cell_type": "code",
   "execution_count": 12,
   "metadata": {},
   "outputs": [],
   "source": [
    "# Выполним срез данных, исключив ранее определенных пользователей\n",
    "orders = orders[~ orders['visitorId'].isin(visitors_A_B)]"
   ]
  },
  {
   "cell_type": "markdown",
   "metadata": {},
   "source": [
    "<div style=\"border:solid Green 2px; padding: 20px\">\n",
    "    \n",
    "**Вывод:** Таким образом было отбраковано порядка 6% пользователей. В разрезе всего теста данное количество распределиться по всему временному периоду и не окажет значительного влияния на общую картину. Вполне вероятны некоторые колебания, вызванные данным срезом, однако так получится более действительная картина "
   ]
  },
  {
   "cell_type": "markdown",
   "metadata": {},
   "source": [
    "### Приоритизация гипотез"
   ]
  },
  {
   "cell_type": "markdown",
   "metadata": {},
   "source": [
    "#### Применение фреймворка ICE"
   ]
  },
  {
   "cell_type": "code",
   "execution_count": 13,
   "metadata": {},
   "outputs": [
    {
     "data": {
      "text/html": [
       "<div>\n",
       "<style scoped>\n",
       "    .dataframe tbody tr th:only-of-type {\n",
       "        vertical-align: middle;\n",
       "    }\n",
       "\n",
       "    .dataframe tbody tr th {\n",
       "        vertical-align: top;\n",
       "    }\n",
       "\n",
       "    .dataframe thead th {\n",
       "        text-align: right;\n",
       "    }\n",
       "</style>\n",
       "<table border=\"1\" class=\"dataframe\">\n",
       "  <thead>\n",
       "    <tr style=\"text-align: right;\">\n",
       "      <th></th>\n",
       "      <th>hypothesis</th>\n",
       "      <th>reach</th>\n",
       "      <th>impact</th>\n",
       "      <th>confidence</th>\n",
       "      <th>efforts</th>\n",
       "      <th>ice_score</th>\n",
       "    </tr>\n",
       "  </thead>\n",
       "  <tbody>\n",
       "    <tr>\n",
       "      <th>8</th>\n",
       "      <td>Запустить акцию, дающую скидку на товар в день рождения</td>\n",
       "      <td>1</td>\n",
       "      <td>9</td>\n",
       "      <td>9</td>\n",
       "      <td>5</td>\n",
       "      <td>16.2</td>\n",
       "    </tr>\n",
       "    <tr>\n",
       "      <th>0</th>\n",
       "      <td>Добавить два новых канала привлечения трафика, что позволит привлекать на 30% больше пользователей</td>\n",
       "      <td>3</td>\n",
       "      <td>10</td>\n",
       "      <td>8</td>\n",
       "      <td>6</td>\n",
       "      <td>13.3</td>\n",
       "    </tr>\n",
       "    <tr>\n",
       "      <th>7</th>\n",
       "      <td>Добавить форму подписки на все основные страницы, чтобы собрать базу клиентов для email-рассылок</td>\n",
       "      <td>10</td>\n",
       "      <td>7</td>\n",
       "      <td>8</td>\n",
       "      <td>5</td>\n",
       "      <td>11.2</td>\n",
       "    </tr>\n",
       "    <tr>\n",
       "      <th>6</th>\n",
       "      <td>Показать на главной странице баннеры с актуальными акциями и распродажами, чтобы увеличить конверсию</td>\n",
       "      <td>5</td>\n",
       "      <td>3</td>\n",
       "      <td>8</td>\n",
       "      <td>3</td>\n",
       "      <td>8.0</td>\n",
       "    </tr>\n",
       "    <tr>\n",
       "      <th>2</th>\n",
       "      <td>Добавить блоки рекомендаций товаров на сайт интернет магазина, чтобы повысить конверсию и средний чек заказа</td>\n",
       "      <td>8</td>\n",
       "      <td>3</td>\n",
       "      <td>7</td>\n",
       "      <td>3</td>\n",
       "      <td>7.0</td>\n",
       "    </tr>\n",
       "    <tr>\n",
       "      <th>1</th>\n",
       "      <td>Запустить собственную службу доставки, что сократит срок доставки заказов</td>\n",
       "      <td>2</td>\n",
       "      <td>5</td>\n",
       "      <td>4</td>\n",
       "      <td>10</td>\n",
       "      <td>2.0</td>\n",
       "    </tr>\n",
       "    <tr>\n",
       "      <th>5</th>\n",
       "      <td>Добавить страницу отзывов клиентов о магазине, что позволит увеличить количество заказов</td>\n",
       "      <td>3</td>\n",
       "      <td>2</td>\n",
       "      <td>2</td>\n",
       "      <td>3</td>\n",
       "      <td>1.3</td>\n",
       "    </tr>\n",
       "    <tr>\n",
       "      <th>3</th>\n",
       "      <td>Изменить структура категорий, что увеличит конверсию, т.к. пользователи быстрее найдут нужный товар</td>\n",
       "      <td>8</td>\n",
       "      <td>3</td>\n",
       "      <td>3</td>\n",
       "      <td>8</td>\n",
       "      <td>1.1</td>\n",
       "    </tr>\n",
       "    <tr>\n",
       "      <th>4</th>\n",
       "      <td>Изменить цвет фона главной страницы, чтобы увеличить вовлеченность пользователей</td>\n",
       "      <td>3</td>\n",
       "      <td>1</td>\n",
       "      <td>1</td>\n",
       "      <td>1</td>\n",
       "      <td>1.0</td>\n",
       "    </tr>\n",
       "  </tbody>\n",
       "</table>\n",
       "</div>"
      ],
      "text/plain": [
       "                                                                                                     hypothesis  \\\n",
       "8                                                       Запустить акцию, дающую скидку на товар в день рождения   \n",
       "0            Добавить два новых канала привлечения трафика, что позволит привлекать на 30% больше пользователей   \n",
       "7              Добавить форму подписки на все основные страницы, чтобы собрать базу клиентов для email-рассылок   \n",
       "6          Показать на главной странице баннеры с актуальными акциями и распродажами, чтобы увеличить конверсию   \n",
       "2  Добавить блоки рекомендаций товаров на сайт интернет магазина, чтобы повысить конверсию и средний чек заказа   \n",
       "1                                     Запустить собственную службу доставки, что сократит срок доставки заказов   \n",
       "5                      Добавить страницу отзывов клиентов о магазине, что позволит увеличить количество заказов   \n",
       "3           Изменить структура категорий, что увеличит конверсию, т.к. пользователи быстрее найдут нужный товар   \n",
       "4                              Изменить цвет фона главной страницы, чтобы увеличить вовлеченность пользователей   \n",
       "\n",
       "   reach  impact  confidence  efforts  ice_score  \n",
       "8      1       9           9        5       16.2  \n",
       "0      3      10           8        6       13.3  \n",
       "7     10       7           8        5       11.2  \n",
       "6      5       3           8        3        8.0  \n",
       "2      8       3           7        3        7.0  \n",
       "1      2       5           4       10        2.0  \n",
       "5      3       2           2        3        1.3  \n",
       "3      8       3           3        8        1.1  \n",
       "4      3       1           1        1        1.0  "
      ]
     },
     "execution_count": 13,
     "metadata": {},
     "output_type": "execute_result"
    }
   ],
   "source": [
    "# Выполним расчет ICE SCORE и отобразим датафрейм в порядке убывания оценки\n",
    "hypothesis['ice_score'] = (round(hypothesis['impact'] * hypothesis['confidence'] / \n",
    "                                 hypothesis['efforts'], 1))\n",
    "hypothesis.sort_values(by = 'ice_score', ascending = False)"
   ]
  },
  {
   "cell_type": "markdown",
   "metadata": {},
   "source": [
    "<div style=\"border:solid Green 2px; padding: 20px\">\n",
    "    \n",
    "Сильно выделяется последняя гипотеза - \"Запустить акцию, дающую скидку на товар в день рождения\". Выполним оценку RICE SCORE  и после сделаем совокупные выводы"
   ]
  },
  {
   "cell_type": "markdown",
   "metadata": {},
   "source": [
    "#### Применение фреймворка RICE"
   ]
  },
  {
   "cell_type": "code",
   "execution_count": 14,
   "metadata": {},
   "outputs": [
    {
     "data": {
      "text/html": [
       "<div>\n",
       "<style scoped>\n",
       "    .dataframe tbody tr th:only-of-type {\n",
       "        vertical-align: middle;\n",
       "    }\n",
       "\n",
       "    .dataframe tbody tr th {\n",
       "        vertical-align: top;\n",
       "    }\n",
       "\n",
       "    .dataframe thead th {\n",
       "        text-align: right;\n",
       "    }\n",
       "</style>\n",
       "<table border=\"1\" class=\"dataframe\">\n",
       "  <thead>\n",
       "    <tr style=\"text-align: right;\">\n",
       "      <th></th>\n",
       "      <th>hypothesis</th>\n",
       "      <th>reach</th>\n",
       "      <th>impact</th>\n",
       "      <th>confidence</th>\n",
       "      <th>efforts</th>\n",
       "      <th>ice_score</th>\n",
       "      <th>rice_score</th>\n",
       "    </tr>\n",
       "  </thead>\n",
       "  <tbody>\n",
       "    <tr>\n",
       "      <th>7</th>\n",
       "      <td>Добавить форму подписки на все основные страницы, чтобы собрать базу клиентов для email-рассылок</td>\n",
       "      <td>10</td>\n",
       "      <td>7</td>\n",
       "      <td>8</td>\n",
       "      <td>5</td>\n",
       "      <td>11.2</td>\n",
       "      <td>112.0</td>\n",
       "    </tr>\n",
       "    <tr>\n",
       "      <th>2</th>\n",
       "      <td>Добавить блоки рекомендаций товаров на сайт интернет магазина, чтобы повысить конверсию и средний чек заказа</td>\n",
       "      <td>8</td>\n",
       "      <td>3</td>\n",
       "      <td>7</td>\n",
       "      <td>3</td>\n",
       "      <td>7.0</td>\n",
       "      <td>56.0</td>\n",
       "    </tr>\n",
       "    <tr>\n",
       "      <th>0</th>\n",
       "      <td>Добавить два новых канала привлечения трафика, что позволит привлекать на 30% больше пользователей</td>\n",
       "      <td>3</td>\n",
       "      <td>10</td>\n",
       "      <td>8</td>\n",
       "      <td>6</td>\n",
       "      <td>13.3</td>\n",
       "      <td>40.0</td>\n",
       "    </tr>\n",
       "    <tr>\n",
       "      <th>6</th>\n",
       "      <td>Показать на главной странице баннеры с актуальными акциями и распродажами, чтобы увеличить конверсию</td>\n",
       "      <td>5</td>\n",
       "      <td>3</td>\n",
       "      <td>8</td>\n",
       "      <td>3</td>\n",
       "      <td>8.0</td>\n",
       "      <td>40.0</td>\n",
       "    </tr>\n",
       "    <tr>\n",
       "      <th>8</th>\n",
       "      <td>Запустить акцию, дающую скидку на товар в день рождения</td>\n",
       "      <td>1</td>\n",
       "      <td>9</td>\n",
       "      <td>9</td>\n",
       "      <td>5</td>\n",
       "      <td>16.2</td>\n",
       "      <td>16.2</td>\n",
       "    </tr>\n",
       "    <tr>\n",
       "      <th>3</th>\n",
       "      <td>Изменить структура категорий, что увеличит конверсию, т.к. пользователи быстрее найдут нужный товар</td>\n",
       "      <td>8</td>\n",
       "      <td>3</td>\n",
       "      <td>3</td>\n",
       "      <td>8</td>\n",
       "      <td>1.1</td>\n",
       "      <td>9.0</td>\n",
       "    </tr>\n",
       "    <tr>\n",
       "      <th>1</th>\n",
       "      <td>Запустить собственную службу доставки, что сократит срок доставки заказов</td>\n",
       "      <td>2</td>\n",
       "      <td>5</td>\n",
       "      <td>4</td>\n",
       "      <td>10</td>\n",
       "      <td>2.0</td>\n",
       "      <td>4.0</td>\n",
       "    </tr>\n",
       "    <tr>\n",
       "      <th>5</th>\n",
       "      <td>Добавить страницу отзывов клиентов о магазине, что позволит увеличить количество заказов</td>\n",
       "      <td>3</td>\n",
       "      <td>2</td>\n",
       "      <td>2</td>\n",
       "      <td>3</td>\n",
       "      <td>1.3</td>\n",
       "      <td>4.0</td>\n",
       "    </tr>\n",
       "    <tr>\n",
       "      <th>4</th>\n",
       "      <td>Изменить цвет фона главной страницы, чтобы увеличить вовлеченность пользователей</td>\n",
       "      <td>3</td>\n",
       "      <td>1</td>\n",
       "      <td>1</td>\n",
       "      <td>1</td>\n",
       "      <td>1.0</td>\n",
       "      <td>3.0</td>\n",
       "    </tr>\n",
       "  </tbody>\n",
       "</table>\n",
       "</div>"
      ],
      "text/plain": [
       "                                                                                                     hypothesis  \\\n",
       "7              Добавить форму подписки на все основные страницы, чтобы собрать базу клиентов для email-рассылок   \n",
       "2  Добавить блоки рекомендаций товаров на сайт интернет магазина, чтобы повысить конверсию и средний чек заказа   \n",
       "0            Добавить два новых канала привлечения трафика, что позволит привлекать на 30% больше пользователей   \n",
       "6          Показать на главной странице баннеры с актуальными акциями и распродажами, чтобы увеличить конверсию   \n",
       "8                                                       Запустить акцию, дающую скидку на товар в день рождения   \n",
       "3           Изменить структура категорий, что увеличит конверсию, т.к. пользователи быстрее найдут нужный товар   \n",
       "1                                     Запустить собственную службу доставки, что сократит срок доставки заказов   \n",
       "5                      Добавить страницу отзывов клиентов о магазине, что позволит увеличить количество заказов   \n",
       "4                              Изменить цвет фона главной страницы, чтобы увеличить вовлеченность пользователей   \n",
       "\n",
       "   reach  impact  confidence  efforts  ice_score  rice_score  \n",
       "7     10       7           8        5       11.2       112.0  \n",
       "2      8       3           7        3        7.0        56.0  \n",
       "0      3      10           8        6       13.3        40.0  \n",
       "6      5       3           8        3        8.0        40.0  \n",
       "8      1       9           9        5       16.2        16.2  \n",
       "3      8       3           3        8        1.1         9.0  \n",
       "1      2       5           4       10        2.0         4.0  \n",
       "5      3       2           2        3        1.3         4.0  \n",
       "4      3       1           1        1        1.0         3.0  "
      ]
     },
     "execution_count": 14,
     "metadata": {},
     "output_type": "execute_result"
    }
   ],
   "source": [
    "# Определим RICE SCORE и отобразим датафрейм в порядке убывания оценки\n",
    "hypothesis['rice_score'] = round(hypothesis['reach'] * hypothesis['impact'] * hypothesis['confidence'] / \n",
    "                                hypothesis['efforts'], 1)\n",
    "hypothesis.sort_values(by = 'rice_score', ascending = False)"
   ]
  },
  {
   "cell_type": "markdown",
   "metadata": {},
   "source": [
    "<div style=\"border:solid Green 2px; padding: 20px\">\n",
    "    \n",
    "При расчете RICE SCORE сильно выделяется гипотеза \"Добавить форму подписки на все основные страницы...\", а ранее оцененный лидер опустился до середины списка"
   ]
  },
  {
   "cell_type": "markdown",
   "metadata": {},
   "source": [
    "#### Сравнение результатов"
   ]
  },
  {
   "cell_type": "markdown",
   "metadata": {},
   "source": [
    "<div style=\"border:solid Green 2px; padding: 20px\">\n",
    "    \n",
    "**Вывод:** Изменение приоритета произошло из-за добавления в оценку параметра, который оценивает количество затронутых изменением пользователей. Если рассмотреть гипотезу с акцией на день рождения, то влияние на пользователей действительно очень малое и локальное, что не дает высокого приоритета данной гипотезе при оценке RICE. <br>\n",
    "    \n",
    "Основной целью, которую поставил заказчик, является увеличение выручки. Гипотеза, которая выделяется при оценке ICE с малой долей вероятности сможет значительно увеличить выручку - только повысить лояльность клиентов и их активность в день рождения. <br>\n",
    "Наибольший интерес вызывают гипотезы под номерами 7, 0 и 2 - они лидируют в оценке RICE, а также характеризуются довольно высоким баллом при расчете ICE."
   ]
  },
  {
   "cell_type": "markdown",
   "metadata": {},
   "source": [
    "### Анализ A/B-теста"
   ]
  },
  {
   "cell_type": "markdown",
   "metadata": {},
   "source": [
    "#### Оценка распределения показателей контрольной и тестовой групп"
   ]
  },
  {
   "cell_type": "code",
   "execution_count": 15,
   "metadata": {},
   "outputs": [],
   "source": [
    "# Подготовим переменные с нужными полями\n",
    "daily_A = orders[orders['group'] == 'A'][['date', 'revenue', 'transactionId']]\n",
    "daily_B = orders[orders['group'] == 'B'][['date', 'revenue', 'transactionId']]"
   ]
  },
  {
   "cell_type": "code",
   "execution_count": 16,
   "metadata": {},
   "outputs": [],
   "source": [
    "# Определим куммулятивную выручку и суммарное количество заказов для каждой группы\n",
    "cumsum_A = daily_A.apply(\n",
    "    lambda x: daily_A[daily_A['date'] <= x['date']]\\\n",
    "    .agg({'date':'max','revenue':'sum', 'transactionId':'nunique'}), axis = 1)\\\n",
    "    .drop_duplicates().sort_values(by = 'date').reset_index(drop = True)\n",
    "\n",
    "cumsum_B = daily_B.apply(\n",
    "    lambda x: daily_B[daily_B['date'] <= x['date']]\\\n",
    "    .agg({'date':'max','revenue':'sum','transactionId':'nunique'}), axis = 1)\\\n",
    "    .drop_duplicates().sort_values(by = 'date').reset_index(drop = True)"
   ]
  },
  {
   "cell_type": "code",
   "execution_count": 17,
   "metadata": {},
   "outputs": [
    {
     "data": {
      "image/png": "[encoded data removed]",
      "text/plain": [
       "<Figure size 720x576 with 1 Axes>"
      ]
     },
     "metadata": {
      "needs_background": "light"
     },
     "output_type": "display_data"
    }
   ],
   "source": [
    "# Отобразим график куммулятивной выручки\n",
    "plt.figure(figsize=(10, 8))\n",
    "plt.plot(cumsum_A['date'], cumsum_A['revenue'], label = 'A')\n",
    "plt.plot(cumsum_B['date'], cumsum_B['revenue'], label = 'B')\n",
    "plt.legend()\n",
    "plt.title('Кумулятивная выручка')\n",
    "plt.xlabel('Дата')\n",
    "plt.xticks(rotation=45)\n",
    "plt.ylabel('Выручка')\n",
    "plt.show()"
   ]
  },
  {
   "cell_type": "markdown",
   "metadata": {},
   "source": [
    "<div style=\"border:solid Green 2px; padding: 20px\">\n",
    "    \n",
    "Как и ожидалось, выручка с каждым днем растет по обоим группам. В начальный момент теста группы характеризуются одинаковой динамикой, однако спустя 5 дней наблюдается бОльший рост по тестовой группе. Также на графиках отмечаются пики, которые, вероятно, вызваны выбросами в данных: 13 числа по контрольной группе и примерно 18 числа по тестовой группе. <br>\n",
    "В целом можно выдвинуть предположение о том, что группа В имеет показатели выручки несколько выше, чем у контрольной группы."
   ]
  },
  {
   "cell_type": "code",
   "execution_count": 18,
   "metadata": {},
   "outputs": [
    {
     "data": {
      "image/png": "[encoded data removed]",
      "text/plain": [
       "<Figure size 720x576 with 1 Axes>"
      ]
     },
     "metadata": {
      "needs_background": "light"
     },
     "output_type": "display_data"
    }
   ],
   "source": [
    "# Отобразим график среднего чека по группам\n",
    "plt.figure(figsize=(10, 8))\n",
    "plt.plot(cumsum_A['date'], \n",
    "         cumsum_A['revenue']/cumsum_A['transactionId'], \n",
    "         label = 'A')\n",
    "plt.plot(cumsum_B['date'], \n",
    "         cumsum_B['revenue']/cumsum_B['transactionId'],\n",
    "         label = 'B')\n",
    "plt.legend()\n",
    "plt.title('Динамика среднего чека')\n",
    "plt.xlabel('Дата')\n",
    "plt.xticks(rotation=45)\n",
    "plt.ylabel('Средний чек')\n",
    "plt.show()"
   ]
  },
  {
   "cell_type": "markdown",
   "metadata": {},
   "source": [
    "<div style=\"border:solid Green 2px; padding: 20px\">\n",
    "    \n",
    "Средний чек также имеет тенденцию к росту, но более скачкообразную. Ранее выявленные пики, предположительно вызванные выбросами, хорошо видны на данном графике. Это подтверждает наличие аномально больших заказов, которые искажают действительную картину. <br>\n",
    "К концу периода средний чек по контрольной группе начал выполаживаться, а по тестовой группе продолжает плавное снижение."
   ]
  },
  {
   "cell_type": "code",
   "execution_count": 19,
   "metadata": {},
   "outputs": [],
   "source": [
    "# Объединим датафреймы с группами\n",
    "cumsum = cumsum_A.merge(cumsum_B, \n",
    "                        how = 'left', \n",
    "                        left_on = 'date', \n",
    "                        right_on = 'date', \n",
    "                        suffixes = ['A', 'B']\n",
    "                       )"
   ]
  },
  {
   "cell_type": "code",
   "execution_count": 20,
   "metadata": {},
   "outputs": [
    {
     "data": {
      "image/png": "[encoded data removed]",
      "text/plain": [
       "<Figure size 720x576 with 1 Axes>"
      ]
     },
     "metadata": {
      "needs_background": "light"
     },
     "output_type": "display_data"
    }
   ],
   "source": [
    "# Отобразим график относительного среднего чека\n",
    "plt.figure(figsize=(10, 8))\n",
    "plt.plot(cumsum['date'], (cumsum['revenueB']/cumsum['transactionIdB']) /\n",
    "                         (cumsum['revenueA']/cumsum['transactionIdA']) - 1)\n",
    "plt.axhline(y=0, color = 'black', linestyle = '--')\n",
    "plt.title('Динамика относительного среднего чека')\n",
    "plt.xlabel('Дата')\n",
    "plt.xticks(rotation=45)\n",
    "plt.ylabel('Относительный средний чек')\n",
    "plt.show()"
   ]
  },
  {
   "cell_type": "markdown",
   "metadata": {},
   "source": [
    "<div style=\"border:solid Green 2px; padding: 20px\">\n",
    "    \n",
    "На данном графике также явно отмечаются скачки и аномалии, связанные с выбросами. Также стоит отметить, что практически за весь рассматриваемы период относительный средний чек находится в зоне выше нуля, что позволяет предположить о эффективности тестовой группы. Однако для окончательного вывода необходимо избавиться от аномалий и провести статистические тесты."
   ]
  },
  {
   "cell_type": "code",
   "execution_count": 21,
   "metadata": {},
   "outputs": [],
   "source": [
    "# Определим накопленное количество посетителей по дням в разрезе групп\n",
    "visitors_A = visitors[visitors['group']=='A'].sort_values(by = 'date')\n",
    "visitors_A['cumsum_visitors'] = np.cumsum(visitors_A['visitors'])\n",
    "\n",
    "visitors_B = visitors[visitors['group']=='B'].sort_values(by = 'date').reset_index(drop = True)\n",
    "visitors_B['cumsum_visitors'] = np.cumsum(visitors_B['visitors'])"
   ]
  },
  {
   "cell_type": "code",
   "execution_count": 22,
   "metadata": {},
   "outputs": [
    {
     "data": {
      "image/png": "[encoded data removed]",
      "text/plain": [
       "<Figure size 720x576 with 1 Axes>"
      ]
     },
     "metadata": {
      "needs_background": "light"
     },
     "output_type": "display_data"
    }
   ],
   "source": [
    "# Отобразим график кумулятивного среднего количества заказов на посетителя по группам\n",
    "plt.figure(figsize=(10, 8))\n",
    "plt.plot(cumsum['date'], cumsum['transactionIdA'] / visitors_A['cumsum_visitors'], label = 'A')\n",
    "plt.plot(cumsum['date'], cumsum['transactionIdB'] / visitors_B['cumsum_visitors'], label = 'B')\n",
    "plt.title('Динамика среднего количества заказов на посетителя')\n",
    "plt.xlabel('Дата')\n",
    "plt.xticks(rotation=45)\n",
    "plt.ylabel('Количество заказов')\n",
    "plt.show()"
   ]
  },
  {
   "cell_type": "markdown",
   "metadata": {},
   "source": [
    "<div style=\"border:solid Green 2px; padding: 20px\">\n",
    "    \n",
    "Среднее количество заказов в тестовой группе растет, в то время как в контрольной группе наоборот падает. Можно предположить о большей эффективности тестовой группы. К середине рассматриваемого периода показатели обеих групп стабилизировались и колеблются около среднего значения."
   ]
  },
  {
   "cell_type": "code",
   "execution_count": 23,
   "metadata": {},
   "outputs": [
    {
     "data": {
      "image/png": "[encoded data removed]",
      "text/plain": [
       "<Figure size 720x576 with 1 Axes>"
      ]
     },
     "metadata": {
      "needs_background": "light"
     },
     "output_type": "display_data"
    }
   ],
   "source": [
    "# Отобразим график относительного изменения кумулятивного среднего количества заказов на посетителя\n",
    "plt.figure(figsize=(10, 8))\n",
    "plt.plot(cumsum['date'], (cumsum['transactionIdB'] / visitors_B['cumsum_visitors']) /\n",
    "                         (cumsum['transactionIdA'] / visitors_A['cumsum_visitors']) - 1)\n",
    "plt.axhline(y=0, color = 'black', linestyle = '--')\n",
    "plt.title('Отностительное среднее количество заказов на посетителя')\n",
    "plt.xlabel('Дата')\n",
    "plt.xticks(rotation=45)\n",
    "plt.ylabel('Отношение')\n",
    "plt.show()"
   ]
  },
  {
   "cell_type": "markdown",
   "metadata": {},
   "source": [
    "<div style=\"border:solid Green 2px; padding: 20px\">\n",
    "    \n",
    "Разница в динамике, которая была определена на прошлом графике в явном виде проявилась при оценке отношения: показатель уверенно вышел в положительную зону на первой неделе теста. Тестовая группа демонстрирует более высокую конверсию посетителя в покупателя, чем контрольная группа."
   ]
  },
  {
   "cell_type": "markdown",
   "metadata": {},
   "source": [
    "#### Определение выбросов в данных"
   ]
  },
  {
   "cell_type": "code",
   "execution_count": 24,
   "metadata": {},
   "outputs": [],
   "source": [
    "# Посчитаем количество заказов для пользователей\n",
    "cnt_orders = orders.groupby('visitorId', as_index = False).agg({'transactionId':'nunique'})"
   ]
  },
  {
   "cell_type": "code",
   "execution_count": 25,
   "metadata": {},
   "outputs": [
    {
     "data": {
      "image/png": "[encoded data removed]",
      "text/plain": [
       "<Figure size 720x576 with 1 Axes>"
      ]
     },
     "metadata": {
      "needs_background": "light"
     },
     "output_type": "display_data"
    }
   ],
   "source": [
    "# Отобразим график количества заказов по пользователям\n",
    "plt.figure(figsize=(10, 8))\n",
    "plt.scatter(cnt_orders.index, cnt_orders['transactionId'])\n",
    "plt.title('Количество заказов по пользователям')\n",
    "plt.xlabel('Пользователь')\n",
    "plt.ylabel('Количество заказов')\n",
    "plt.show()"
   ]
  },
  {
   "cell_type": "markdown",
   "metadata": {},
   "source": [
    "<div style=\"border:solid Green 2px; padding: 20px\">\n",
    "    \n",
    "По данному графику видно, что основная масса пользователей делала 1 заказ. Однако есть пользователи, которые за тестовый месяц сделали 2 и 3 заказа. Предварительно можно сказать, что аномальным количеством является 3 заказа на одного пользователя."
   ]
  },
  {
   "cell_type": "code",
   "execution_count": 26,
   "metadata": {},
   "outputs": [
    {
     "name": "stdout",
     "output_type": "stream",
     "text": [
      "95 и 99 перцентиль количества заказов: [1. 2.]\n"
     ]
    }
   ],
   "source": [
    "# Оценим 95 и 99 перцентили\n",
    "print('95 и 99 перцентиль количества заказов:', np.percentile(cnt_orders['transactionId'], [95, 99]))"
   ]
  },
  {
   "cell_type": "markdown",
   "metadata": {},
   "source": [
    "<div style=\"border:solid Green 2px; padding: 20px\">\n",
    "    \n",
    "Учитывая нормы по исключению количества данных, оптимальную границу можно определить как 3 заказа на пользователя"
   ]
  },
  {
   "cell_type": "code",
   "execution_count": 27,
   "metadata": {},
   "outputs": [
    {
     "data": {
      "image/png": "[encoded data removed]",
      "text/plain": [
       "<Figure size 720x576 with 1 Axes>"
      ]
     },
     "metadata": {
      "needs_background": "light"
     },
     "output_type": "display_data"
    }
   ],
   "source": [
    "# Отобразим график стоимости заказов\n",
    "plt.figure(figsize=(10, 8))\n",
    "plt.scatter(orders.index, orders['revenue'])\n",
    "plt.title('Стоимость заказов')\n",
    "plt.xlabel('Заказ')\n",
    "plt.ylabel('Сумма заказа')\n",
    "plt.show()"
   ]
  },
  {
   "cell_type": "code",
   "execution_count": 28,
   "metadata": {},
   "outputs": [
    {
     "data": {
      "image/png": "[encoded data removed]",
      "text/plain": [
       "<Figure size 720x576 with 1 Axes>"
      ]
     },
     "metadata": {
      "needs_background": "light"
     },
     "output_type": "display_data"
    }
   ],
   "source": [
    "# Отобразим график стоимости заказов в увилченном масштабе, чтобы детально увидеть заказы\n",
    "plt.figure(figsize=(10, 8))\n",
    "plt.scatter(orders.index, orders['revenue'])\n",
    "plt.title('Стоимость заказов')\n",
    "plt.xlabel('Заказ')\n",
    "plt.ylabel('Сумма заказа')\n",
    "plt.ylim(0, 150000)\n",
    "plt.show()"
   ]
  },
  {
   "cell_type": "markdown",
   "metadata": {},
   "source": [
    "<div style=\"border:solid Green 2px; padding: 20px\">\n",
    "    \n",
    "В данном случае границу аномальности выделить несколько сложнее, ввиду высокой разрозненности заказов. Ориентировочно она определяется на уровне 30000. Также значительно выделяются 2 заказа - можно сделать предположение, что именно эти заказы оказывали влияние, которое было отмечено ранее на графиках."
   ]
  },
  {
   "cell_type": "code",
   "execution_count": 29,
   "metadata": {},
   "outputs": [
    {
     "name": "stdout",
     "output_type": "stream",
     "text": [
      "95 и 99 перцентиль стоимости заказов: [26785. 53904.]\n"
     ]
    }
   ],
   "source": [
    "# Оценим 95 и 99 перцентили\n",
    "print('95 и 99 перцентиль стоимости заказов:', np.percentile(orders['revenue'], [95, 99]))"
   ]
  },
  {
   "cell_type": "markdown",
   "metadata": {},
   "source": [
    "<div style=\"border:solid Green 2px; padding: 20px\">\n",
    "    \n",
    "Можно определить границу для среза примерно на среднем уровне между полученными значениями - 41000"
   ]
  },
  {
   "cell_type": "markdown",
   "metadata": {},
   "source": [
    "#### Расчет статистической значимости по \"сырым\" данным"
   ]
  },
  {
   "cell_type": "markdown",
   "metadata": {},
   "source": [
    "<div style=\"border:solid Green 2px; padding: 20px\">\n",
    "    \n",
    "Определим статистическую значимость различий в среднем количестве заказов на посетителя между группами по «сырым» данным. <br>\n",
    "    \n",
    "**H0:** Среднее количество заказов на посетителя тестовой группы *равно* среднему количеству заказов на посетителя контрольной группы.<br>\n",
    "**H1:** Среднее количество заказов на посетителя тестовой группы *не равно* среднему количеству заказов на посетителя контрольной группы.\n",
    "    \n",
    "Проверку статистической значимости проведем непараметрическим тестом Уилкоксона-Манна-Уитни, так как в данных есть выбросы, которые повлияют на результаты теста при использовании параметрических тестов. <br>\n",
    "    \n",
    "Уровень статистической значимости *alpha* определим на уровне 5%."
   ]
  },
  {
   "cell_type": "code",
   "execution_count": 30,
   "metadata": {},
   "outputs": [],
   "source": [
    "# Подготовим датафрейм с количеством заказов для каждого из пользователей по группам\n",
    "orders_A = orders[orders['group'] == 'A'].groupby('visitorId', as_index = False)\\\n",
    "                                         .agg({'transactionId':pd.Series.nunique})\n",
    "orders_A.columns = ['users', 'orders']\n",
    "\n",
    "orders_B = orders[orders['group'] == 'B'].groupby('visitorId', as_index = False)\\\n",
    "                                         .agg({'transactionId':pd.Series.nunique})\n",
    "orders_B.columns = ['users', 'orders']"
   ]
  },
  {
   "cell_type": "code",
   "execution_count": 31,
   "metadata": {},
   "outputs": [],
   "source": [
    "# Объединим список с количеством заказов и список с \"нулями\", \n",
    "# получив количество заказов для каждого посетителя в группе\n",
    "sample_A = pd.concat(\n",
    "    [orders_A['orders'],\n",
    "        pd.Series(0,\n",
    "                  index = np.arange(visitors[visitors['group']=='A']['visitors'].sum() - len(orders_A['orders'])),\n",
    "                  name='orders')],\n",
    "    axis=0) \n",
    "\n",
    "sample_B = pd.concat(\n",
    "    [orders_B['orders'],\n",
    "        pd.Series(0,\n",
    "                  index = np.arange(visitors[visitors['group']=='B']['visitors'].sum() - len(orders_B['orders'])),\n",
    "                  name='orders')],\n",
    "    axis=0) "
   ]
  },
  {
   "cell_type": "code",
   "execution_count": 32,
   "metadata": {},
   "outputs": [
    {
     "name": "stdout",
     "output_type": "stream",
     "text": [
      "0.011\n",
      "Среднее по контрольной группе: 0.02498, среднее по тестовой группе: 0.02897\n",
      "Отвергаем нулевую гипотезу: разница статистически значима\n"
     ]
    }
   ],
   "source": [
    "# Посчитаем статистическую значимость различий в среднем количестве заказов на посетителя\n",
    "alpha = 0.05\n",
    "mannwhitney = stats.mannwhitneyu(sample_A, sample_B)[1]\n",
    "\n",
    "print(\"{0:.3f}\".format(mannwhitney))\n",
    "print(f'Среднее по контрольной группе: {\"{0:.5f}\".format(sample_A.mean())}\\\n",
    ", среднее по тестовой группе: {\"{0:.5f}\".format(sample_B.mean())}')\n",
    "\n",
    "if mannwhitney < alpha:\n",
    "    print('Отвергаем нулевую гипотезу: разница статистически значима')\n",
    "else:\n",
    "    print('Не получилось отвергнуть нулевую гипотезу, вывод о различии сделать нельзя') "
   ]
  },
  {
   "cell_type": "markdown",
   "metadata": {},
   "source": [
    "<div style=\"border:solid Green 2px; padding: 20px\">\n",
    "    \n",
    "**Вывод:** Разница полученных распределений статистически значима: данные в контрольной и тестовой группах отличаются существенно. В тестовой группе в среднем на 16% больше заказов на посетителя, на основании чего можно предполагать, что тестовые изменения положительно влияют на деятельность бизнеса."
   ]
  },
  {
   "cell_type": "markdown",
   "metadata": {},
   "source": [
    "<div style=\"border:solid Green 2px; padding: 20px\">\n",
    "    \n",
    "Определим статистическую значимость различий в среднем чеке заказа между группами по «сырым» данным. <br>\n",
    "    \n",
    "**H0:** Средний чек тестовой группы *равен* среднему чеку контрольной группы.<br>\n",
    "**H1:** Средний чек тестовой группы *не равен* среднему чеку контрольной группы.\n",
    "    \n",
    "Проверку статистической значимости проведем также непараметрическим тестом Уилкоксона-Манна-Уитни, по причине выбросов. <br>\n",
    "    \n",
    "Уровень статистической значимости *alpha* определим на уровне 5%."
   ]
  },
  {
   "cell_type": "code",
   "execution_count": 33,
   "metadata": {},
   "outputs": [
    {
     "name": "stdout",
     "output_type": "stream",
     "text": [
      "0.829\n",
      "Относительное различие в среднем чеке между группами: 0.287\n",
      "Не получилось отвергнуть нулевую гипотезу, вывод о различии сделать нельзя\n"
     ]
    }
   ],
   "source": [
    "# Посчитаем статистическую значимость различий в среднем чеке заказа\n",
    "alpha = 0.05\n",
    "mannwhitney = stats.mannwhitneyu(orders[orders['group'] == 'A']['revenue'], \n",
    "                                        orders[orders['group'] == 'B']['revenue'])[1]\n",
    "delt = orders[orders['group'] == 'B']['revenue'].mean() / orders[orders['group'] == 'A']['revenue'].mean() - 1\n",
    "\n",
    "print('{0:.3f}'.format(mannwhitney))\n",
    "print('Относительное различие в среднем чеке между группами: ' \"{0:.3f}\".format(delt))\n",
    "\n",
    "if mannwhitney < alpha:\n",
    "    print('Отвергаем нулевую гипотезу: разница статистически значима')\n",
    "else:\n",
    "    print('Не получилось отвергнуть нулевую гипотезу, вывод о различии сделать нельзя') "
   ]
  },
  {
   "cell_type": "markdown",
   "metadata": {},
   "source": [
    "<div style=\"border:solid Green 2px; padding: 20px\">\n",
    "    \n",
    "**Вывод:** P-value существенно больше критерия значимости 0.05, что не позволяет сделать вывод о различиях выборок, несмотря на существенное увеличение среднего чека тестовой группы: разница составляет 29%. "
   ]
  },
  {
   "cell_type": "markdown",
   "metadata": {},
   "source": [
    "#### Расчет статистической значимости по \"очищенным\" данным"
   ]
  },
  {
   "cell_type": "markdown",
   "metadata": {},
   "source": [
    "<div style=\"border:solid Green 2px; padding: 20px\">\n",
    "    \n",
    "Определим статистическую значимость различий в среднем количестве заказов на посетителя между группами по «очищенным» данным. <br>\n",
    "    \n",
    "**H0:** Среднее количество заказов на посетителя тестовой группы *равно* среднему количеству заказов на посетителя контрольной группы.<br>\n",
    "**H1:** Среднее количество заказов на посетителя тестовой группы *не равно* среднему количеству заказов на посетителя контрольной группы.\n",
    "    \n",
    "Проверку статистической значимости вновь будем проводить непараметрическим тестом Уилкоксона-Манна-Уитни, чтобы сравнить полученные результаты в одинаковых условиях и детально оценить разницу оценки по \"сырым\" и \"очищенным\" данным. <br>\n",
    "    \n",
    "Уровень статистической значимости *alpha* определим на уровне 5%."
   ]
  },
  {
   "cell_type": "code",
   "execution_count": 34,
   "metadata": {},
   "outputs": [],
   "source": [
    "# Определим пользователей, которых следует удалить, как аномальных\n",
    "users_manyorders = cnt_orders[cnt_orders['transactionId'] >= 3]['visitorId']\n",
    "users_costorders = orders[orders['revenue'] >= 43000]['visitorId']"
   ]
  },
  {
   "cell_type": "code",
   "execution_count": 35,
   "metadata": {},
   "outputs": [],
   "source": [
    "# Объединим данные в один объект\n",
    "drop_users = (\n",
    "    pd.concat([users_manyorders, users_costorders], axis = 0)\n",
    "    .drop_duplicates()\n",
    "    .reset_index(drop = True)\n",
    ")"
   ]
  },
  {
   "cell_type": "code",
   "execution_count": 36,
   "metadata": {},
   "outputs": [
    {
     "name": "stdout",
     "output_type": "stream",
     "text": [
      "Количество \"аномальных\" пользователей: 27\n"
     ]
    }
   ],
   "source": [
    "# Посчитаем количество \"аномальных\" пользователей\n",
    "print(f'Количество \"аномальных\" пользователей: {drop_users.count()}')"
   ]
  },
  {
   "cell_type": "markdown",
   "metadata": {},
   "source": [
    "<div style=\"border:solid Green 2px; padding: 20px\">\n",
    "    \n",
    "Ранее мы удалили 58 пользователей, которые попадали в обе группы. Текущая доля аномальных пользователей в 2 раза ниже. Удаление такого объема данных не повлияет на качество статистических тестов и получаемых распределений."
   ]
  },
  {
   "cell_type": "code",
   "execution_count": 37,
   "metadata": {},
   "outputs": [],
   "source": [
    "# Подготовим \"очищенный\" датафрейм с количеством заказов для каждого из пользователей по группам\n",
    "orders_A_clr = orders_A[~orders_A['users'].isin(drop_users)]\n",
    "orders_B_clr = orders_B[~orders_B['users'].isin(drop_users)]"
   ]
  },
  {
   "cell_type": "code",
   "execution_count": 38,
   "metadata": {},
   "outputs": [],
   "source": [
    "# Объединим \"очищенный\" список с количеством заказов и список с \"нулями\", \n",
    "# получив количество заказов для каждого посетителя в группе\n",
    "sample_A_clr = (pd.concat([\n",
    "    orders_A_clr['orders'],\n",
    "    pd.Series(0, \n",
    "              index = np.arange(visitors[visitors['group']=='A']['visitors'].sum() - len(orders_A_clr['orders'])),\n",
    "              name = 'orders')], axis = 0))\n",
    "\n",
    "sample_B_clr = (pd.concat([\n",
    "    orders_B_clr['orders'],\n",
    "    pd.Series(0, \n",
    "              index = np.arange(visitors[visitors['group']=='B']['visitors'].sum() - len(orders_B_clr['orders'])),\n",
    "              name = 'orders')], axis = 0))"
   ]
  },
  {
   "cell_type": "code",
   "execution_count": 39,
   "metadata": {},
   "outputs": [
    {
     "name": "stdout",
     "output_type": "stream",
     "text": [
      "0.004\n",
      "Среднее по контрольной группе: 0.02343, среднее по тестовой группе: 0.02828\n",
      "Отвергаем нулевую гипотезу: разница статистически значима\n"
     ]
    }
   ],
   "source": [
    "# Посчитаем статистическую значимость различий в среднем количестве заказов на посетителя по \"очищенным\" данным\n",
    "alpha = 0.05\n",
    "mannwhitney = stats.mannwhitneyu(sample_A_clr, sample_B_clr)[1]\n",
    "\n",
    "print(\"{0:.3f}\".format(mannwhitney))\n",
    "print(f'Среднее по контрольной группе: {\"{0:.5f}\".format(sample_A_clr.mean())}\\\n",
    ", среднее по тестовой группе: {\"{0:.5f}\".format(sample_B_clr.mean())}')\n",
    "\n",
    "if mannwhitney < alpha:\n",
    "    print('Отвергаем нулевую гипотезу: разница статистически значима')\n",
    "else:\n",
    "    print('Не получилось отвергнуть нулевую гипотезу, вывод о различии сделать нельзя') "
   ]
  },
  {
   "cell_type": "markdown",
   "metadata": {},
   "source": [
    "<div style=\"border:solid Green 2px; padding: 20px\">\n",
    "    \n",
    "**Вывод:** Принципиального различия в сравнении с изначальной оценкой мы не получили, однако разница стала более выраженной: p-value уменьшился, а разница в среднем достигла 21%. Оценка по \"очищенным данным\" является более выраженной и явной."
   ]
  },
  {
   "cell_type": "markdown",
   "metadata": {},
   "source": [
    "<div style=\"border:solid Green 2px; padding: 20px\">\n",
    "    \n",
    "Определим статистическую значимость различий в среднем чеке заказа между группами по «очищенным» данным. <br>\n",
    "    \n",
    "**H0:** Средний чек тестовой группы *равен* среднему чеку контрольной группы.<br>\n",
    "**H1:** Средний чек тестовой группы *не равен* среднему чеку контрольной группы.\n",
    "    \n",
    "Проверку статистической значимости проведем также непараметрическим тестом Уилкоксона-Манна-Уитни.<br>\n",
    "    \n",
    "Уровень статистической значимости *alpha* определим на уровне 5%."
   ]
  },
  {
   "cell_type": "code",
   "execution_count": 40,
   "metadata": {},
   "outputs": [
    {
     "name": "stdout",
     "output_type": "stream",
     "text": [
      "0.907\n",
      "Относительное различие в среднем чеке между группами: 0.062\n",
      "Не получилось отвергнуть нулевую гипотезу, вывод о различии сделать нельзя\n"
     ]
    }
   ],
   "source": [
    "# Посчитаем статистическую значимости различий в среднем чеке заказа по \"очищенным\" данным\n",
    "alpha = 0.05\n",
    "mannwhitney = stats.mannwhitneyu(orders[(orders['group'] == 'A') & (~orders['visitorId'].isin(drop_users))]['revenue'], \n",
    "                                 orders[(orders['group'] == 'B') & (~orders['visitorId'].isin(drop_users))]['revenue'])[1]\n",
    "\n",
    "delt = orders[(orders['group'] == 'B') & (~orders['visitorId'].isin(drop_users))]['revenue'].mean()/\\\n",
    "       orders[(orders['group'] == 'A') & (~orders['visitorId'].isin(drop_users))]['revenue'].mean() - 1\n",
    "\n",
    "print('{0:.3f}'.format(mannwhitney))\n",
    "print('Относительное различие в среднем чеке между группами: ' \"{0:.3f}\".format(delt))\n",
    "\n",
    "if mannwhitney < alpha:\n",
    "    print('Отвергаем нулевую гипотезу: разница статистически значима')\n",
    "else:\n",
    "    print('Не получилось отвергнуть нулевую гипотезу, вывод о различии сделать нельзя') "
   ]
  },
  {
   "cell_type": "markdown",
   "metadata": {},
   "source": [
    "<div style=\"border:solid Green 2px; padding: 20px\">\n",
    "    \n",
    "В данном случае разница по \"очищенным\" данным стала еще меньше, чем в изначальной оценке: p-value стремится к единице, а изменение в среднем чеке составляет 6% процентов, что почти в 5 раз меньше, чем по всем данным. Как и в оценке по \"сырым\" данным отвергнуть гипотезу о равенстве контрольной и тестовой групп нельзя."
   ]
  },
  {
   "cell_type": "markdown",
   "metadata": {},
   "source": [
    "#### Принятие решения по оцениваемому тесту"
   ]
  },
  {
   "cell_type": "markdown",
   "metadata": {},
   "source": [
    "<div style=\"border:solid Green 2px; padding: 20px\">\n",
    "\n",
    "На основании проведенного анализа и сделанных промежуточных выводов следует *остановить тест и зафиксировать победу тестовой группы*, так как:\n",
    "    \n",
    "1. Спустя 5 дней от начала теста наблюдается бОльший темп динамики роста выручки по тестовой группе. Также на графиках отмечаются пики, которые, вызваны выбросами в данных.\n",
    "2. Средний чек также имеет тенденцию к росту, но более скачкообразную, под влиянием выбросов. Тестовая группа вновь показывает бОльшую эффективность.\n",
    "К концу рассматриваемого периода средний чек по контрольной группе начал выполаживаться, а по тестовой группе продолжает плавное снижение со скачка, который был вызван аномально дорогим заказом.\n",
    "3. Практически за весь рассматриваемый период средний чек тестовой группы относительно контрольной находится в зоне выше нуля.\n",
    "4. Среднее количество заказов в тестовой группе растет, в то время как в контрольной группе наоборот падает. К концу рассматриваемого периода показатели обеих групп стабилизировались и колеблются около среднего значения.\n",
    "5. При рассмотрении отношения среднего количества заказов явно виден прирост по тестовой группе: показатель уверенно вышел в положительную зону на первой неделе теста. Тестовая группа демонстрирует более высокую конверсию посетителя в покупателя, чем контрольная группа.\n",
    "6. При оценке статистической значимости различий в среднем количестве заказов на посетителя по \"очищенным\" данным от выбросов зафиксирован существенный рост по тестовой группе: *дельта относительно контрольной группы составила порядка 21%*\n",
    "7. При оценке статистической значимости различий различий в среднем чеке заказа по \"очищенным\" данным от выбросов не удалось отвергнуть гипотезу о равенстве групп: несмотря на то, что средний чек по тестовой группе увеличился в среднем на 6%, утверждать о влиянии тестируемых изменений на данный прирост нельзя.\n",
    "    \n",
    "Таким образом можно сделать *заключение об эффективности тестируемых изменений* и составить план для внедрения данной гипотезы, так как зафиксированное влияние оказывает целевое положительное воздейсвтие на прирост выручки: даже если принять размер среднего чека на уровне контрольной группы, то **прирост количества заказов в размере 21% увеличит объем выручки на соизмеримую долю.**"
   ]
  },
  {
   "cell_type": "markdown",
   "metadata": {},
   "source": [
    "### Вывод и рекомендации"
   ]
  },
  {
   "cell_type": "markdown",
   "metadata": {},
   "source": [
    "<div style=\"border:solid Green 2px; padding: 20px\">\n",
    "\n",
    "**Выводы по проекту:** \n",
    "    \n",
    "1. По итогу оценки определены посетитетли, которые попали в обе группы - контрольную и тестовую. Доля таких посетителей составляет порядка 6% от общего количества. Принято решение об удалении строк по данным посетителям.\n",
    "2. Приоритезация гипотез проведена двумя фреймворками: ICE и RICE. В результате оценки получилось разное распределение из-за добавления параметра фреймворка RICE, который оценивает количество затронутых изменением пользователей. <br>\n",
    "Учитывая основную цель от заказчика по повышению выручки, наибольший интерес вызывают следующие гипотезы:\n",
    "- Добавить форму подписки на все основные страницы, чтобы собрать базу клиентов для email-рассылок\n",
    "- Добавить блоки рекомендаций товаров на сайт интернет магазина, чтобы повысить конверсию и средний чек заказа\n",
    "- Добавить два новых канала привлечения трафика, что позволит привлекать на 30% больше пользователей\n",
    "    \n",
    "    Данные гипотезы лидируют в оценке RICE, а также характеризуются довольно высоким баллом при расчете ICE.\n",
    "    \n",
    "3. Проведенный тест можно признать успешным и завершить проверку: достигнута статистическая значимость в приросте среднего количества заказов на одного пользователя. Прирост составил порядка 21%, что увеличит объем выручки на соизмеримую долю.\n",
    "    \n",
    "**Рекомендации:** Для дальнейших тестов стоит детальнее настроить логику и алгоритм распределения посетителей на группы, а также провести А/А тест, чтобы избежать сложившейся ситуации, когда один и тот же клиент попадает в обе группы сразу."
   ]
  }
 ],
 "metadata": {
  "ExecuteTimeLog": [
   {
    "duration": 851,
    "start_time": "2023-03-03T08:24:55.093Z"
   },
   {
    "duration": 236,
    "start_time": "2023-03-03T08:26:39.669Z"
   },
   {
    "duration": 7,
    "start_time": "2023-03-03T09:00:55.871Z"
   },
   {
    "duration": 30,
    "start_time": "2023-03-03T09:01:14.561Z"
   },
   {
    "duration": 24,
    "start_time": "2023-03-03T09:02:12.360Z"
   },
   {
    "duration": 22,
    "start_time": "2023-03-03T09:02:16.672Z"
   },
   {
    "duration": 4,
    "start_time": "2023-03-03T09:04:43.679Z"
   },
   {
    "duration": 22,
    "start_time": "2023-03-03T09:04:46.933Z"
   },
   {
    "duration": 4,
    "start_time": "2023-03-03T09:20:33.229Z"
   },
   {
    "duration": 28,
    "start_time": "2023-03-03T09:20:38.554Z"
   },
   {
    "duration": 5,
    "start_time": "2023-03-03T09:22:24.965Z"
   },
   {
    "duration": 21,
    "start_time": "2023-03-03T09:22:32.291Z"
   },
   {
    "duration": 100,
    "start_time": "2023-03-03T09:24:42.662Z"
   },
   {
    "duration": 3,
    "start_time": "2023-03-03T09:25:06.667Z"
   },
   {
    "duration": 17,
    "start_time": "2023-03-03T09:25:12.756Z"
   },
   {
    "duration": 87,
    "start_time": "2023-03-03T09:26:16.094Z"
   },
   {
    "duration": 85,
    "start_time": "2023-03-03T09:26:23.760Z"
   },
   {
    "duration": 339,
    "start_time": "2023-03-03T09:26:48.226Z"
   },
   {
    "duration": 18,
    "start_time": "2023-03-03T09:27:01.015Z"
   },
   {
    "duration": 25,
    "start_time": "2023-03-03T09:27:13.042Z"
   },
   {
    "duration": 7,
    "start_time": "2023-03-03T09:27:29.261Z"
   },
   {
    "duration": 6,
    "start_time": "2023-03-03T09:27:55.761Z"
   },
   {
    "duration": 8,
    "start_time": "2023-03-03T09:27:59.073Z"
   },
   {
    "duration": 4,
    "start_time": "2023-03-03T09:30:57.756Z"
   },
   {
    "duration": 8,
    "start_time": "2023-03-03T09:30:58.373Z"
   },
   {
    "duration": 27,
    "start_time": "2023-03-03T09:31:02.455Z"
   },
   {
    "duration": 25,
    "start_time": "2023-03-03T09:31:07.192Z"
   },
   {
    "duration": 22,
    "start_time": "2023-03-03T09:31:16.559Z"
   },
   {
    "duration": 719,
    "start_time": "2023-03-03T09:31:33.157Z"
   },
   {
    "duration": 149,
    "start_time": "2023-03-03T09:31:33.877Z"
   },
   {
    "duration": 3,
    "start_time": "2023-03-03T09:31:34.028Z"
   },
   {
    "duration": 32,
    "start_time": "2023-03-03T09:31:34.035Z"
   },
   {
    "duration": 39,
    "start_time": "2023-03-03T09:31:34.069Z"
   },
   {
    "duration": 31,
    "start_time": "2023-03-03T09:31:34.110Z"
   },
   {
    "duration": 50,
    "start_time": "2023-03-03T09:31:34.143Z"
   },
   {
    "duration": 24,
    "start_time": "2023-03-03T09:31:34.196Z"
   },
   {
    "duration": 34,
    "start_time": "2023-03-03T09:31:34.222Z"
   },
   {
    "duration": 23,
    "start_time": "2023-03-03T09:31:38.278Z"
   },
   {
    "duration": 23,
    "start_time": "2023-03-03T09:31:41.785Z"
   },
   {
    "duration": 147,
    "start_time": "2023-03-03T09:37:43.718Z"
   },
   {
    "duration": 27,
    "start_time": "2023-03-03T09:37:49.413Z"
   },
   {
    "duration": 87,
    "start_time": "2023-03-03T09:38:25.048Z"
   },
   {
    "duration": 15,
    "start_time": "2023-03-03T09:38:40.661Z"
   },
   {
    "duration": 11,
    "start_time": "2023-03-03T09:38:51.610Z"
   },
   {
    "duration": 6,
    "start_time": "2023-03-03T09:38:57.559Z"
   },
   {
    "duration": 4,
    "start_time": "2023-03-03T09:39:01.804Z"
   },
   {
    "duration": 4,
    "start_time": "2023-03-03T09:39:52.252Z"
   },
   {
    "duration": 101,
    "start_time": "2023-03-03T09:40:10.116Z"
   },
   {
    "duration": 81,
    "start_time": "2023-03-03T09:40:33.771Z"
   },
   {
    "duration": 5,
    "start_time": "2023-03-03T09:41:18.066Z"
   },
   {
    "duration": 13,
    "start_time": "2023-03-03T09:47:41.967Z"
   },
   {
    "duration": 15,
    "start_time": "2023-03-03T09:47:59.718Z"
   },
   {
    "duration": 12,
    "start_time": "2023-03-03T09:48:05.179Z"
   },
   {
    "duration": 18,
    "start_time": "2023-03-03T09:50:47.713Z"
   },
   {
    "duration": 13,
    "start_time": "2023-03-03T10:02:33.951Z"
   },
   {
    "duration": 21,
    "start_time": "2023-03-03T10:02:37.177Z"
   },
   {
    "duration": 1573,
    "start_time": "2023-03-03T10:11:20.930Z"
   },
   {
    "duration": 29,
    "start_time": "2023-03-03T10:11:31.638Z"
   },
   {
    "duration": 17,
    "start_time": "2023-03-03T10:13:05.161Z"
   },
   {
    "duration": 11,
    "start_time": "2023-03-03T10:13:42.964Z"
   },
   {
    "duration": 7,
    "start_time": "2023-03-03T10:13:47.215Z"
   },
   {
    "duration": 16,
    "start_time": "2023-03-03T10:13:48.203Z"
   },
   {
    "duration": 15,
    "start_time": "2023-03-03T10:14:22.163Z"
   },
   {
    "duration": 28,
    "start_time": "2023-03-03T10:19:12.797Z"
   },
   {
    "duration": 25,
    "start_time": "2023-03-03T10:19:30.163Z"
   },
   {
    "duration": 28,
    "start_time": "2023-03-03T10:19:38.604Z"
   },
   {
    "duration": 8,
    "start_time": "2023-03-03T10:20:31.928Z"
   },
   {
    "duration": 5,
    "start_time": "2023-03-03T10:22:02.926Z"
   },
   {
    "duration": 43,
    "start_time": "2023-03-03T10:23:43.821Z"
   },
   {
    "duration": 13,
    "start_time": "2023-03-03T10:24:26.424Z"
   },
   {
    "duration": 20,
    "start_time": "2023-03-03T10:25:43.764Z"
   },
   {
    "duration": 5,
    "start_time": "2023-03-03T10:25:53.693Z"
   },
   {
    "duration": 14,
    "start_time": "2023-03-03T10:26:01.910Z"
   },
   {
    "duration": 131,
    "start_time": "2023-03-03T10:26:46.093Z"
   },
   {
    "duration": 111,
    "start_time": "2023-03-03T10:27:32.767Z"
   },
   {
    "duration": 479,
    "start_time": "2023-03-03T10:27:39.705Z"
   },
   {
    "duration": 409,
    "start_time": "2023-03-03T10:28:07.110Z"
   },
   {
    "duration": 13,
    "start_time": "2023-03-03T10:28:15.107Z"
   },
   {
    "duration": 12,
    "start_time": "2023-03-03T10:28:20.488Z"
   },
   {
    "duration": 25,
    "start_time": "2023-03-03T10:28:25.026Z"
   },
   {
    "duration": 51,
    "start_time": "2023-03-03T10:28:38.331Z"
   },
   {
    "duration": 887,
    "start_time": "2023-03-03T10:30:20.972Z"
   },
   {
    "duration": 16,
    "start_time": "2023-03-03T10:30:35.136Z"
   },
   {
    "duration": 14,
    "start_time": "2023-03-03T10:31:37.969Z"
   },
   {
    "duration": 28,
    "start_time": "2023-03-03T10:33:32.568Z"
   },
   {
    "duration": 184,
    "start_time": "2023-03-03T10:33:48.125Z"
   },
   {
    "duration": 25,
    "start_time": "2023-03-03T10:33:52.082Z"
   },
   {
    "duration": 10,
    "start_time": "2023-03-03T10:34:19.782Z"
   },
   {
    "duration": 13,
    "start_time": "2023-03-03T10:35:26.336Z"
   },
   {
    "duration": 21,
    "start_time": "2023-03-03T10:35:32.276Z"
   },
   {
    "duration": 743,
    "start_time": "2023-03-03T10:35:41.767Z"
   },
   {
    "duration": 11,
    "start_time": "2023-03-03T10:35:45.267Z"
   },
   {
    "duration": 14,
    "start_time": "2023-03-03T10:36:02.017Z"
   },
   {
    "duration": 898,
    "start_time": "2023-03-03T10:36:11.818Z"
   },
   {
    "duration": 11,
    "start_time": "2023-03-03T10:36:14.578Z"
   },
   {
    "duration": 121,
    "start_time": "2023-03-03T10:37:12.459Z"
   },
   {
    "duration": 6,
    "start_time": "2023-03-03T10:37:18.607Z"
   },
   {
    "duration": 43,
    "start_time": "2023-03-03T10:37:43.427Z"
   },
   {
    "duration": 14,
    "start_time": "2023-03-03T10:38:06.439Z"
   },
   {
    "duration": 6,
    "start_time": "2023-03-03T10:38:16.825Z"
   },
   {
    "duration": 13,
    "start_time": "2023-03-03T10:38:22.866Z"
   },
   {
    "duration": 11,
    "start_time": "2023-03-03T10:38:31.112Z"
   },
   {
    "duration": 154,
    "start_time": "2023-03-03T10:40:14.323Z"
   },
   {
    "duration": 7,
    "start_time": "2023-03-03T10:40:20.598Z"
   },
   {
    "duration": 26,
    "start_time": "2023-03-03T10:40:25.107Z"
   },
   {
    "duration": 789,
    "start_time": "2023-03-03T10:40:29.451Z"
   },
   {
    "duration": 18,
    "start_time": "2023-03-03T10:40:32.841Z"
   },
   {
    "duration": 22,
    "start_time": "2023-03-03T10:42:28.042Z"
   },
   {
    "duration": 789,
    "start_time": "2023-03-03T10:42:28.442Z"
   },
   {
    "duration": 12,
    "start_time": "2023-03-03T10:42:31.177Z"
   },
   {
    "duration": 21,
    "start_time": "2023-03-03T10:43:07.664Z"
   },
   {
    "duration": 11,
    "start_time": "2023-03-03T12:38:15.328Z"
   },
   {
    "duration": 13,
    "start_time": "2023-03-03T12:42:20.131Z"
   },
   {
    "duration": 7,
    "start_time": "2023-03-03T12:42:24.361Z"
   },
   {
    "duration": 669,
    "start_time": "2023-03-03T12:42:25.057Z"
   },
   {
    "duration": 7,
    "start_time": "2023-03-03T12:43:30.290Z"
   },
   {
    "duration": 1687,
    "start_time": "2023-03-03T12:43:30.969Z"
   },
   {
    "duration": 293,
    "start_time": "2023-03-03T12:46:07.662Z"
   },
   {
    "duration": 1698,
    "start_time": "2023-03-03T12:47:05.274Z"
   },
   {
    "duration": 191,
    "start_time": "2023-03-03T12:47:08.767Z"
   },
   {
    "duration": 1545,
    "start_time": "2023-03-03T12:59:50.008Z"
   },
   {
    "duration": 201,
    "start_time": "2023-03-03T12:59:51.555Z"
   },
   {
    "duration": 213,
    "start_time": "2023-03-03T13:01:29.751Z"
   },
   {
    "duration": 204,
    "start_time": "2023-03-03T13:02:05.888Z"
   },
   {
    "duration": 245,
    "start_time": "2023-03-03T13:03:05.202Z"
   },
   {
    "duration": 205,
    "start_time": "2023-03-03T13:28:01.943Z"
   },
   {
    "duration": 199,
    "start_time": "2023-03-03T13:29:17.594Z"
   },
   {
    "duration": 7,
    "start_time": "2023-03-03T13:50:36.994Z"
   },
   {
    "duration": 1652,
    "start_time": "2023-03-03T13:50:38.068Z"
   },
   {
    "duration": 260,
    "start_time": "2023-03-03T13:50:40.884Z"
   },
   {
    "duration": 201,
    "start_time": "2023-03-03T13:52:04.673Z"
   },
   {
    "duration": 1722,
    "start_time": "2023-03-03T13:52:44.553Z"
   },
   {
    "duration": 218,
    "start_time": "2023-03-03T13:52:49.667Z"
   },
   {
    "duration": 249,
    "start_time": "2023-03-03T13:52:52.236Z"
   },
   {
    "duration": 206,
    "start_time": "2023-03-03T13:53:38.658Z"
   },
   {
    "duration": 9,
    "start_time": "2023-03-03T13:55:37.248Z"
   },
   {
    "duration": 1890,
    "start_time": "2023-03-03T13:55:37.883Z"
   },
   {
    "duration": 207,
    "start_time": "2023-03-03T13:55:50.781Z"
   },
   {
    "duration": 222,
    "start_time": "2023-03-03T13:56:07.260Z"
   },
   {
    "duration": 121,
    "start_time": "2023-03-03T14:22:25.372Z"
   },
   {
    "duration": 144,
    "start_time": "2023-03-03T14:22:54.485Z"
   },
   {
    "duration": 7,
    "start_time": "2023-03-03T14:26:05.702Z"
   },
   {
    "duration": 159,
    "start_time": "2023-03-03T14:26:08.420Z"
   },
   {
    "duration": 360,
    "start_time": "2023-03-03T14:27:24.014Z"
   },
   {
    "duration": 7,
    "start_time": "2023-03-03T14:28:03.797Z"
   },
   {
    "duration": 310,
    "start_time": "2023-03-03T14:28:06.341Z"
   },
   {
    "duration": 16,
    "start_time": "2023-03-03T14:58:46.732Z"
   },
   {
    "duration": 22,
    "start_time": "2023-03-03T14:59:12.655Z"
   },
   {
    "duration": 32,
    "start_time": "2023-03-03T14:59:40.237Z"
   },
   {
    "duration": 11,
    "start_time": "2023-03-03T15:00:12.474Z"
   },
   {
    "duration": 16,
    "start_time": "2023-03-03T15:00:50.358Z"
   },
   {
    "duration": 13,
    "start_time": "2023-03-03T15:01:04.303Z"
   },
   {
    "duration": 17,
    "start_time": "2023-03-03T15:01:08.110Z"
   },
   {
    "duration": 12,
    "start_time": "2023-03-03T15:01:25.286Z"
   },
   {
    "duration": 2279,
    "start_time": "2023-03-03T15:03:31.333Z"
   },
   {
    "duration": 238,
    "start_time": "2023-03-03T15:03:34.970Z"
   },
   {
    "duration": 226,
    "start_time": "2023-03-03T15:03:39.672Z"
   },
   {
    "duration": 7,
    "start_time": "2023-03-03T15:03:42.793Z"
   },
   {
    "duration": 396,
    "start_time": "2023-03-03T15:03:45.214Z"
   },
   {
    "duration": 9,
    "start_time": "2023-03-03T15:03:54.005Z"
   },
   {
    "duration": 34,
    "start_time": "2023-03-03T15:06:01.238Z"
   },
   {
    "duration": 5,
    "start_time": "2023-03-03T15:08:04.908Z"
   },
   {
    "duration": 10,
    "start_time": "2023-03-03T15:08:32.376Z"
   },
   {
    "duration": 16,
    "start_time": "2023-03-03T15:08:48.269Z"
   },
   {
    "duration": 11,
    "start_time": "2023-03-03T15:09:01.092Z"
   },
   {
    "duration": 9,
    "start_time": "2023-03-03T15:09:19.078Z"
   },
   {
    "duration": 11,
    "start_time": "2023-03-03T15:09:30.192Z"
   },
   {
    "duration": 13,
    "start_time": "2023-03-03T15:09:43.236Z"
   },
   {
    "duration": 126,
    "start_time": "2023-03-03T15:10:13.767Z"
   },
   {
    "duration": 128,
    "start_time": "2023-03-03T15:10:21.814Z"
   },
   {
    "duration": 7,
    "start_time": "2023-03-03T15:10:29.489Z"
   },
   {
    "duration": 12,
    "start_time": "2023-03-03T15:10:32.915Z"
   },
   {
    "duration": 7,
    "start_time": "2023-03-03T15:10:41.508Z"
   },
   {
    "duration": 14,
    "start_time": "2023-03-03T15:10:42.172Z"
   },
   {
    "duration": 11,
    "start_time": "2023-03-03T15:12:46.591Z"
   },
   {
    "duration": 9,
    "start_time": "2023-03-03T15:13:16.399Z"
   },
   {
    "duration": 15,
    "start_time": "2023-03-03T15:13:19.489Z"
   },
   {
    "duration": 11,
    "start_time": "2023-03-03T15:16:45.883Z"
   },
   {
    "duration": 196,
    "start_time": "2023-03-03T15:17:53.535Z"
   },
   {
    "duration": 194,
    "start_time": "2023-03-03T15:19:04.437Z"
   },
   {
    "duration": 10,
    "start_time": "2023-03-03T15:19:56.776Z"
   },
   {
    "duration": 9,
    "start_time": "2023-03-03T15:20:27.410Z"
   },
   {
    "duration": 8,
    "start_time": "2023-03-03T15:22:57.814Z"
   },
   {
    "duration": 12,
    "start_time": "2023-03-03T15:23:39.607Z"
   },
   {
    "duration": 16,
    "start_time": "2023-03-03T15:42:04.271Z"
   },
   {
    "duration": 22,
    "start_time": "2023-03-03T15:42:15.128Z"
   },
   {
    "duration": 10,
    "start_time": "2023-03-03T15:42:47.926Z"
   },
   {
    "duration": 11,
    "start_time": "2023-03-03T15:44:18.805Z"
   },
   {
    "duration": 224,
    "start_time": "2023-03-03T15:44:19.798Z"
   },
   {
    "duration": 312,
    "start_time": "2023-03-03T15:45:52.085Z"
   },
   {
    "duration": 212,
    "start_time": "2023-03-03T15:52:05.682Z"
   },
   {
    "duration": 337,
    "start_time": "2023-03-03T15:54:09.869Z"
   },
   {
    "duration": 18,
    "start_time": "2023-03-03T15:59:12.173Z"
   },
   {
    "duration": 10,
    "start_time": "2023-03-03T16:00:18.489Z"
   },
   {
    "duration": 252,
    "start_time": "2023-03-03T16:00:38.492Z"
   },
   {
    "duration": 12,
    "start_time": "2023-03-03T16:00:57.589Z"
   },
   {
    "duration": 12,
    "start_time": "2023-03-03T16:01:49.404Z"
   },
   {
    "duration": 15,
    "start_time": "2023-03-03T16:01:55.572Z"
   },
   {
    "duration": 12,
    "start_time": "2023-03-03T16:02:49.671Z"
   },
   {
    "duration": 16,
    "start_time": "2023-03-03T16:02:53.656Z"
   },
   {
    "duration": 136,
    "start_time": "2023-03-03T16:02:55.289Z"
   },
   {
    "duration": 144,
    "start_time": "2023-03-03T16:05:10.795Z"
   },
   {
    "duration": 156,
    "start_time": "2023-03-03T16:05:22.907Z"
   },
   {
    "duration": 153,
    "start_time": "2023-03-03T16:05:27.409Z"
   },
   {
    "duration": 9,
    "start_time": "2023-03-03T16:06:34.375Z"
   },
   {
    "duration": 162,
    "start_time": "2023-03-03T16:06:35.296Z"
   },
   {
    "duration": 7,
    "start_time": "2023-03-03T16:09:08.000Z"
   },
   {
    "duration": 10,
    "start_time": "2023-03-03T16:09:46.073Z"
   },
   {
    "duration": 13,
    "start_time": "2023-03-03T16:09:59.448Z"
   },
   {
    "duration": 15,
    "start_time": "2023-03-03T16:10:10.632Z"
   },
   {
    "duration": 9,
    "start_time": "2023-03-03T16:11:23.375Z"
   },
   {
    "duration": 182,
    "start_time": "2023-03-03T16:14:26.009Z"
   },
   {
    "duration": 196,
    "start_time": "2023-03-03T16:15:38.017Z"
   },
   {
    "duration": 5,
    "start_time": "2023-03-03T16:18:24.113Z"
   },
   {
    "duration": 4,
    "start_time": "2023-03-03T16:46:09.906Z"
   },
   {
    "duration": 24,
    "start_time": "2023-03-03T16:46:14.120Z"
   },
   {
    "duration": 531,
    "start_time": "2023-03-03T16:46:44.270Z"
   },
   {
    "duration": 9,
    "start_time": "2023-03-03T16:47:02.209Z"
   },
   {
    "duration": 8,
    "start_time": "2023-03-03T16:47:12.092Z"
   },
   {
    "duration": 10,
    "start_time": "2023-03-03T16:47:34.492Z"
   },
   {
    "duration": 19,
    "start_time": "2023-03-03T16:53:00.936Z"
   },
   {
    "duration": 5,
    "start_time": "2023-03-03T16:53:24.290Z"
   },
   {
    "duration": 10,
    "start_time": "2023-03-03T16:56:52.986Z"
   },
   {
    "duration": 40,
    "start_time": "2023-03-03T16:58:50.281Z"
   },
   {
    "duration": 20,
    "start_time": "2023-03-03T16:59:13.406Z"
   },
   {
    "duration": 7,
    "start_time": "2023-03-03T16:59:28.779Z"
   },
   {
    "duration": 18,
    "start_time": "2023-03-03T16:59:35.279Z"
   },
   {
    "duration": 12,
    "start_time": "2023-03-03T16:59:39.794Z"
   },
   {
    "duration": 13,
    "start_time": "2023-03-03T17:00:53.886Z"
   },
   {
    "duration": 9,
    "start_time": "2023-03-03T17:02:54.480Z"
   },
   {
    "duration": 9,
    "start_time": "2023-03-03T17:05:49.392Z"
   },
   {
    "duration": 11,
    "start_time": "2023-03-03T17:06:50.985Z"
   },
   {
    "duration": 9,
    "start_time": "2023-03-03T17:08:30.480Z"
   },
   {
    "duration": 4,
    "start_time": "2023-03-03T17:08:33.503Z"
   },
   {
    "duration": 13,
    "start_time": "2023-03-03T17:08:34.997Z"
   },
   {
    "duration": 12,
    "start_time": "2023-03-03T17:08:41.220Z"
   },
   {
    "duration": 104,
    "start_time": "2023-03-03T17:09:37.279Z"
   },
   {
    "duration": 11,
    "start_time": "2023-03-03T17:10:38.085Z"
   },
   {
    "duration": 163,
    "start_time": "2023-03-03T17:10:55.620Z"
   },
   {
    "duration": 435,
    "start_time": "2023-03-03T17:11:50.211Z"
   },
   {
    "duration": 10,
    "start_time": "2023-03-03T17:12:14.781Z"
   },
   {
    "duration": 2265,
    "start_time": "2023-03-03T17:12:52.733Z"
   },
   {
    "duration": 23,
    "start_time": "2023-03-03T17:13:11.334Z"
   },
   {
    "duration": 7,
    "start_time": "2023-03-03T17:13:26.560Z"
   },
   {
    "duration": 107,
    "start_time": "2023-03-03T17:13:37.404Z"
   },
   {
    "duration": 25,
    "start_time": "2023-03-03T17:13:53.238Z"
   },
   {
    "duration": 21,
    "start_time": "2023-03-03T17:14:04.332Z"
   },
   {
    "duration": 25,
    "start_time": "2023-03-03T17:14:51.551Z"
   },
   {
    "duration": 20,
    "start_time": "2023-03-03T17:16:14.585Z"
   },
   {
    "duration": 23,
    "start_time": "2023-03-03T17:16:57.864Z"
   },
   {
    "duration": 10,
    "start_time": "2023-03-03T17:18:26.407Z"
   },
   {
    "duration": 114,
    "start_time": "2023-03-03T17:19:42.493Z"
   },
   {
    "duration": 10,
    "start_time": "2023-03-03T17:19:46.785Z"
   },
   {
    "duration": 102,
    "start_time": "2023-03-03T17:33:07.889Z"
   },
   {
    "duration": 12,
    "start_time": "2023-03-03T17:33:09.271Z"
   },
   {
    "duration": 7,
    "start_time": "2023-03-03T17:33:23.781Z"
   },
   {
    "duration": 25,
    "start_time": "2023-03-03T17:33:27.789Z"
   },
   {
    "duration": 9,
    "start_time": "2023-03-03T17:33:44.292Z"
   },
   {
    "duration": 128,
    "start_time": "2023-03-06T02:55:55.619Z"
   },
   {
    "duration": 65,
    "start_time": "2023-03-06T03:10:30.812Z"
   },
   {
    "duration": 1706,
    "start_time": "2023-03-06T03:10:37.346Z"
   },
   {
    "duration": 508,
    "start_time": "2023-03-06T03:10:39.056Z"
   },
   {
    "duration": 3,
    "start_time": "2023-03-06T03:10:39.566Z"
   },
   {
    "duration": 74,
    "start_time": "2023-03-06T03:10:39.571Z"
   },
   {
    "duration": 149,
    "start_time": "2023-03-06T03:10:39.648Z"
   },
   {
    "duration": 175,
    "start_time": "2023-03-06T03:10:39.801Z"
   },
   {
    "duration": 105,
    "start_time": "2023-03-06T03:10:39.983Z"
   },
   {
    "duration": 48,
    "start_time": "2023-03-06T03:10:40.092Z"
   },
   {
    "duration": 82,
    "start_time": "2023-03-06T03:10:40.147Z"
   },
   {
    "duration": 148,
    "start_time": "2023-03-06T03:10:40.235Z"
   },
   {
    "duration": 67,
    "start_time": "2023-03-06T03:10:40.385Z"
   },
   {
    "duration": 87,
    "start_time": "2023-03-06T03:10:40.457Z"
   },
   {
    "duration": 2177,
    "start_time": "2023-03-06T03:10:40.546Z"
   },
   {
    "duration": 367,
    "start_time": "2023-03-06T03:10:42.729Z"
   },
   {
    "duration": 356,
    "start_time": "2023-03-06T03:10:43.102Z"
   },
   {
    "duration": 22,
    "start_time": "2023-03-06T03:10:43.466Z"
   },
   {
    "duration": 558,
    "start_time": "2023-03-06T03:10:43.498Z"
   },
   {
    "duration": 13,
    "start_time": "2023-03-06T03:10:44.063Z"
   },
   {
    "duration": 432,
    "start_time": "2023-03-06T03:10:44.082Z"
   },
   {
    "duration": 357,
    "start_time": "2023-03-06T03:10:44.515Z"
   },
   {
    "duration": 10,
    "start_time": "2023-03-06T03:10:44.877Z"
   },
   {
    "duration": 258,
    "start_time": "2023-03-06T03:10:44.891Z"
   },
   {
    "duration": 7,
    "start_time": "2023-03-06T03:10:45.153Z"
   },
   {
    "duration": 363,
    "start_time": "2023-03-06T03:10:45.164Z"
   },
   {
    "duration": 10,
    "start_time": "2023-03-06T03:10:45.531Z"
   },
   {
    "duration": 387,
    "start_time": "2023-03-06T03:10:45.546Z"
   },
   {
    "duration": 55,
    "start_time": "2023-03-06T03:10:45.935Z"
   },
   {
    "duration": 194,
    "start_time": "2023-03-06T03:10:46.001Z"
   },
   {
    "duration": 153,
    "start_time": "2023-03-06T03:10:46.199Z"
   },
   {
    "duration": 255,
    "start_time": "2023-03-06T03:10:46.357Z"
   },
   {
    "duration": 11,
    "start_time": "2023-03-06T03:10:49.075Z"
   },
   {
    "duration": 13,
    "start_time": "2023-03-06T03:10:57.105Z"
   },
   {
    "duration": 20,
    "start_time": "2023-03-06T03:12:04.639Z"
   },
   {
    "duration": 23,
    "start_time": "2023-03-06T03:20:25.904Z"
   },
   {
    "duration": 104,
    "start_time": "2023-03-06T03:21:04.195Z"
   },
   {
    "duration": 19,
    "start_time": "2023-03-06T03:21:10.400Z"
   },
   {
    "duration": 28,
    "start_time": "2023-03-06T03:21:16.246Z"
   },
   {
    "duration": 5,
    "start_time": "2023-03-06T03:23:02.965Z"
   },
   {
    "duration": 3,
    "start_time": "2023-03-06T03:23:07.427Z"
   },
   {
    "duration": 23,
    "start_time": "2023-03-06T03:23:13.823Z"
   },
   {
    "duration": 21,
    "start_time": "2023-03-06T03:23:25.189Z"
   },
   {
    "duration": 22,
    "start_time": "2023-03-06T03:26:25.019Z"
   },
   {
    "duration": 117,
    "start_time": "2023-03-06T03:27:05.904Z"
   },
   {
    "duration": 43,
    "start_time": "2023-03-06T03:27:24.946Z"
   },
   {
    "duration": 109,
    "start_time": "2023-03-06T03:27:34.898Z"
   },
   {
    "duration": 81,
    "start_time": "2023-03-06T03:27:42.471Z"
   },
   {
    "duration": 93,
    "start_time": "2023-03-06T03:27:47.585Z"
   },
   {
    "duration": 121,
    "start_time": "2023-03-06T03:27:55.078Z"
   },
   {
    "duration": 21,
    "start_time": "2023-03-06T03:27:59.301Z"
   },
   {
    "duration": 34,
    "start_time": "2023-03-06T03:28:09.435Z"
   },
   {
    "duration": 20,
    "start_time": "2023-03-06T03:28:13.119Z"
   },
   {
    "duration": 37,
    "start_time": "2023-03-06T03:28:32.628Z"
   },
   {
    "duration": 26,
    "start_time": "2023-03-06T03:28:46.609Z"
   },
   {
    "duration": 15,
    "start_time": "2023-03-06T03:45:45.886Z"
   },
   {
    "duration": 121,
    "start_time": "2023-03-06T03:47:16.134Z"
   },
   {
    "duration": 106,
    "start_time": "2023-03-06T03:47:22.577Z"
   },
   {
    "duration": 26,
    "start_time": "2023-03-06T03:47:39.476Z"
   },
   {
    "duration": 110,
    "start_time": "2023-03-06T03:52:29.799Z"
   },
   {
    "duration": 110,
    "start_time": "2023-03-06T03:52:40.674Z"
   },
   {
    "duration": 103,
    "start_time": "2023-03-06T03:53:12.128Z"
   },
   {
    "duration": 126,
    "start_time": "2023-03-06T03:54:15.862Z"
   },
   {
    "duration": 109,
    "start_time": "2023-03-06T03:54:35.590Z"
   },
   {
    "duration": 104,
    "start_time": "2023-03-06T03:54:50.324Z"
   },
   {
    "duration": 106,
    "start_time": "2023-03-06T03:55:00.527Z"
   },
   {
    "duration": 161,
    "start_time": "2023-03-06T03:55:08.029Z"
   },
   {
    "duration": 17,
    "start_time": "2023-03-06T03:55:14.453Z"
   },
   {
    "duration": 105,
    "start_time": "2023-03-06T03:55:35.711Z"
   },
   {
    "duration": 104,
    "start_time": "2023-03-06T03:55:39.694Z"
   },
   {
    "duration": 12,
    "start_time": "2023-03-06T03:55:50.410Z"
   },
   {
    "duration": 9,
    "start_time": "2023-03-06T03:56:40.031Z"
   },
   {
    "duration": 12,
    "start_time": "2023-03-06T03:57:04.962Z"
   },
   {
    "duration": 10,
    "start_time": "2023-03-06T03:57:17.220Z"
   },
   {
    "duration": 14,
    "start_time": "2023-03-06T03:57:21.287Z"
   },
   {
    "duration": 10,
    "start_time": "2023-03-06T03:57:38.605Z"
   },
   {
    "duration": 9,
    "start_time": "2023-03-06T05:06:02.742Z"
   },
   {
    "duration": 9,
    "start_time": "2023-03-06T05:09:09.773Z"
   },
   {
    "duration": 20,
    "start_time": "2023-03-06T05:11:05.349Z"
   },
   {
    "duration": 8,
    "start_time": "2023-03-06T05:12:23.918Z"
   },
   {
    "duration": 19,
    "start_time": "2023-03-06T05:13:09.821Z"
   },
   {
    "duration": 12,
    "start_time": "2023-03-06T05:15:34.344Z"
   },
   {
    "duration": 18,
    "start_time": "2023-03-06T05:15:36.762Z"
   },
   {
    "duration": 4,
    "start_time": "2023-03-06T05:16:46.389Z"
   },
   {
    "duration": 8,
    "start_time": "2023-03-06T05:18:42.478Z"
   },
   {
    "duration": 5,
    "start_time": "2023-03-06T05:18:53.313Z"
   },
   {
    "duration": 27,
    "start_time": "2023-03-06T05:18:55.740Z"
   },
   {
    "duration": 6,
    "start_time": "2023-03-06T05:21:37.588Z"
   },
   {
    "duration": 8,
    "start_time": "2023-03-06T05:21:40.146Z"
   },
   {
    "duration": 20,
    "start_time": "2023-03-06T05:21:41.270Z"
   },
   {
    "duration": 7,
    "start_time": "2023-03-06T05:22:00.183Z"
   },
   {
    "duration": 7,
    "start_time": "2023-03-06T05:22:21.537Z"
   },
   {
    "duration": 14,
    "start_time": "2023-03-06T05:22:29.833Z"
   },
   {
    "duration": 14,
    "start_time": "2023-03-06T05:22:34.348Z"
   },
   {
    "duration": 5,
    "start_time": "2023-03-06T05:23:25.841Z"
   },
   {
    "duration": 6,
    "start_time": "2023-03-06T05:23:26.646Z"
   },
   {
    "duration": 7,
    "start_time": "2023-03-06T05:23:43.778Z"
   },
   {
    "duration": 4,
    "start_time": "2023-03-06T05:23:44.425Z"
   },
   {
    "duration": 5,
    "start_time": "2023-03-06T05:23:45.689Z"
   },
   {
    "duration": 4,
    "start_time": "2023-03-06T05:24:04.810Z"
   },
   {
    "duration": 14,
    "start_time": "2023-03-06T05:24:13.076Z"
   },
   {
    "duration": 5,
    "start_time": "2023-03-06T05:24:20.929Z"
   },
   {
    "duration": 4,
    "start_time": "2023-03-06T05:27:51.834Z"
   },
   {
    "duration": 9,
    "start_time": "2023-03-06T05:28:00.699Z"
   },
   {
    "duration": 10,
    "start_time": "2023-03-06T05:28:51.531Z"
   },
   {
    "duration": 5,
    "start_time": "2023-03-06T05:29:28.832Z"
   },
   {
    "duration": 11,
    "start_time": "2023-03-06T05:35:31.847Z"
   },
   {
    "duration": 7,
    "start_time": "2023-03-06T05:35:47.373Z"
   },
   {
    "duration": 15,
    "start_time": "2023-03-06T05:35:54.819Z"
   },
   {
    "duration": 10,
    "start_time": "2023-03-06T05:36:20.850Z"
   },
   {
    "duration": 5,
    "start_time": "2023-03-06T05:36:26.667Z"
   },
   {
    "duration": 8,
    "start_time": "2023-03-06T05:36:30.457Z"
   },
   {
    "duration": 9,
    "start_time": "2023-03-06T05:37:00.950Z"
   },
   {
    "duration": 22,
    "start_time": "2023-03-06T05:38:16.688Z"
   },
   {
    "duration": 20,
    "start_time": "2023-03-06T05:38:57.136Z"
   },
   {
    "duration": 11,
    "start_time": "2023-03-06T06:02:25.607Z"
   },
   {
    "duration": 14,
    "start_time": "2023-03-06T06:04:50.345Z"
   },
   {
    "duration": 13,
    "start_time": "2023-03-06T06:43:28.414Z"
   },
   {
    "duration": 7,
    "start_time": "2023-03-06T06:45:20.412Z"
   },
   {
    "duration": 1088,
    "start_time": "2023-03-06T06:46:17.636Z"
   },
   {
    "duration": 152,
    "start_time": "2023-03-06T06:46:18.726Z"
   },
   {
    "duration": 4,
    "start_time": "2023-03-06T06:46:18.880Z"
   },
   {
    "duration": 12,
    "start_time": "2023-03-06T06:46:18.885Z"
   },
   {
    "duration": 44,
    "start_time": "2023-03-06T06:46:18.900Z"
   },
   {
    "duration": 31,
    "start_time": "2023-03-06T06:46:18.946Z"
   },
   {
    "duration": 20,
    "start_time": "2023-03-06T06:46:18.978Z"
   },
   {
    "duration": 3,
    "start_time": "2023-03-06T06:46:19.000Z"
   },
   {
    "duration": 47,
    "start_time": "2023-03-06T06:46:19.004Z"
   },
   {
    "duration": 16,
    "start_time": "2023-03-06T06:46:19.053Z"
   },
   {
    "duration": 16,
    "start_time": "2023-03-06T06:46:19.071Z"
   },
   {
    "duration": 8,
    "start_time": "2023-03-06T06:46:19.089Z"
   },
   {
    "duration": 1633,
    "start_time": "2023-03-06T06:46:19.099Z"
   },
   {
    "duration": 254,
    "start_time": "2023-03-06T06:46:20.735Z"
   },
   {
    "duration": 209,
    "start_time": "2023-03-06T06:46:20.991Z"
   },
   {
    "duration": 7,
    "start_time": "2023-03-06T06:46:21.201Z"
   },
   {
    "duration": 294,
    "start_time": "2023-03-06T06:46:21.210Z"
   },
   {
    "duration": 8,
    "start_time": "2023-03-06T06:46:21.506Z"
   },
   {
    "duration": 208,
    "start_time": "2023-03-06T06:46:21.516Z"
   },
   {
    "duration": 314,
    "start_time": "2023-03-06T06:46:21.726Z"
   },
   {
    "duration": 7,
    "start_time": "2023-03-06T06:46:22.047Z"
   },
   {
    "duration": 143,
    "start_time": "2023-03-06T06:46:22.056Z"
   },
   {
    "duration": 4,
    "start_time": "2023-03-06T06:46:22.201Z"
   },
   {
    "duration": 251,
    "start_time": "2023-03-06T06:46:22.207Z"
   },
   {
    "duration": 5,
    "start_time": "2023-03-06T06:46:22.459Z"
   },
   {
    "duration": 135,
    "start_time": "2023-03-06T06:46:22.466Z"
   },
   {
    "duration": 8,
    "start_time": "2023-03-06T06:46:22.603Z"
   },
   {
    "duration": 37,
    "start_time": "2023-03-06T06:46:22.613Z"
   },
   {
    "duration": 12,
    "start_time": "2023-03-06T06:46:22.652Z"
   },
   {
    "duration": 5,
    "start_time": "2023-03-06T06:46:22.666Z"
   },
   {
    "duration": 7,
    "start_time": "2023-03-06T06:46:22.673Z"
   },
   {
    "duration": 14,
    "start_time": "2023-03-06T06:46:22.682Z"
   },
   {
    "duration": 9,
    "start_time": "2023-03-06T06:46:22.697Z"
   },
   {
    "duration": 43,
    "start_time": "2023-03-06T06:46:22.708Z"
   },
   {
    "duration": 18,
    "start_time": "2023-03-06T06:46:22.753Z"
   },
   {
    "duration": 1110,
    "start_time": "2023-03-06T07:25:11.749Z"
   },
   {
    "duration": 238,
    "start_time": "2023-03-06T07:25:12.861Z"
   },
   {
    "duration": 3,
    "start_time": "2023-03-06T07:25:13.101Z"
   },
   {
    "duration": 5,
    "start_time": "2023-03-06T07:25:13.106Z"
   },
   {
    "duration": 26,
    "start_time": "2023-03-06T07:25:13.112Z"
   },
   {
    "duration": 18,
    "start_time": "2023-03-06T07:25:13.140Z"
   },
   {
    "duration": 20,
    "start_time": "2023-03-06T07:25:13.160Z"
   },
   {
    "duration": 3,
    "start_time": "2023-03-06T07:25:13.182Z"
   },
   {
    "duration": 8,
    "start_time": "2023-03-06T07:25:13.187Z"
   },
   {
    "duration": 13,
    "start_time": "2023-03-06T07:25:13.198Z"
   },
   {
    "duration": 14,
    "start_time": "2023-03-06T07:25:13.249Z"
   },
   {
    "duration": 7,
    "start_time": "2023-03-06T07:25:13.266Z"
   },
   {
    "duration": 1721,
    "start_time": "2023-03-06T07:25:13.274Z"
   },
   {
    "duration": 272,
    "start_time": "2023-03-06T07:25:14.996Z"
   },
   {
    "duration": 203,
    "start_time": "2023-03-06T07:25:15.271Z"
   },
   {
    "duration": 7,
    "start_time": "2023-03-06T07:25:15.476Z"
   },
   {
    "duration": 280,
    "start_time": "2023-03-06T07:25:15.485Z"
   },
   {
    "duration": 10,
    "start_time": "2023-03-06T07:25:15.767Z"
   },
   {
    "duration": 199,
    "start_time": "2023-03-06T07:25:15.778Z"
   },
   {
    "duration": 290,
    "start_time": "2023-03-06T07:25:15.978Z"
   },
   {
    "duration": 8,
    "start_time": "2023-03-06T07:25:16.270Z"
   },
   {
    "duration": 237,
    "start_time": "2023-03-06T07:25:16.281Z"
   },
   {
    "duration": 4,
    "start_time": "2023-03-06T07:25:16.520Z"
   },
   {
    "duration": 138,
    "start_time": "2023-03-06T07:25:16.525Z"
   },
   {
    "duration": 4,
    "start_time": "2023-03-06T07:25:16.665Z"
   },
   {
    "duration": 148,
    "start_time": "2023-03-06T07:25:16.671Z"
   },
   {
    "duration": 8,
    "start_time": "2023-03-06T07:25:16.820Z"
   },
   {
    "duration": 34,
    "start_time": "2023-03-06T07:25:16.831Z"
   },
   {
    "duration": 12,
    "start_time": "2023-03-06T07:25:16.867Z"
   },
   {
    "duration": 5,
    "start_time": "2023-03-06T07:25:16.881Z"
   },
   {
    "duration": 7,
    "start_time": "2023-03-06T07:25:16.888Z"
   },
   {
    "duration": 9,
    "start_time": "2023-03-06T07:25:16.897Z"
   },
   {
    "duration": 9,
    "start_time": "2023-03-06T07:25:16.908Z"
   },
   {
    "duration": 51,
    "start_time": "2023-03-06T07:25:16.919Z"
   },
   {
    "duration": 13,
    "start_time": "2023-03-06T07:25:16.972Z"
   },
   {
    "duration": 1247,
    "start_time": "2023-03-07T04:13:47.030Z"
   },
   {
    "duration": 221,
    "start_time": "2023-03-07T04:13:48.278Z"
   },
   {
    "duration": 4,
    "start_time": "2023-03-07T04:13:48.501Z"
   },
   {
    "duration": 7,
    "start_time": "2023-03-07T04:13:48.507Z"
   },
   {
    "duration": 27,
    "start_time": "2023-03-07T04:13:48.516Z"
   },
   {
    "duration": 22,
    "start_time": "2023-03-07T04:13:48.545Z"
   },
   {
    "duration": 19,
    "start_time": "2023-03-07T04:13:48.569Z"
   },
   {
    "duration": 43,
    "start_time": "2023-03-07T04:13:48.590Z"
   },
   {
    "duration": 8,
    "start_time": "2023-03-07T04:13:48.635Z"
   },
   {
    "duration": 17,
    "start_time": "2023-03-07T04:13:48.645Z"
   },
   {
    "duration": 12,
    "start_time": "2023-03-07T04:13:48.664Z"
   },
   {
    "duration": 9,
    "start_time": "2023-03-07T04:13:48.677Z"
   },
   {
    "duration": 1537,
    "start_time": "2023-03-07T04:13:48.687Z"
   },
   {
    "duration": 268,
    "start_time": "2023-03-07T04:13:50.225Z"
   },
   {
    "duration": 185,
    "start_time": "2023-03-07T04:13:50.495Z"
   },
   {
    "duration": 6,
    "start_time": "2023-03-07T04:13:50.682Z"
   },
   {
    "duration": 355,
    "start_time": "2023-03-07T04:13:50.689Z"
   },
   {
    "duration": 274,
    "start_time": "2023-03-07T04:13:51.045Z"
   },
   {
    "duration": 178,
    "start_time": "2023-03-07T04:13:51.321Z"
   },
   {
    "duration": 294,
    "start_time": "2023-03-07T04:13:51.501Z"
   },
   {
    "duration": 7,
    "start_time": "2023-03-07T04:13:51.797Z"
   },
   {
    "duration": 239,
    "start_time": "2023-03-07T04:13:51.806Z"
   },
   {
    "duration": 5,
    "start_time": "2023-03-07T04:13:52.048Z"
   },
   {
    "duration": 176,
    "start_time": "2023-03-07T04:13:52.055Z"
   },
   {
    "duration": 4,
    "start_time": "2023-03-07T04:13:52.233Z"
   },
   {
    "duration": 158,
    "start_time": "2023-03-07T04:13:52.238Z"
   },
   {
    "duration": 7,
    "start_time": "2023-03-07T04:13:52.398Z"
   },
   {
    "duration": 1189,
    "start_time": "2023-03-07T04:13:52.408Z"
   },
   {
    "duration": 11,
    "start_time": "2023-03-07T04:13:53.599Z"
   },
   {
    "duration": 14,
    "start_time": "2023-03-07T04:13:53.611Z"
   },
   {
    "duration": 12,
    "start_time": "2023-03-07T04:13:53.627Z"
   },
   {
    "duration": 14,
    "start_time": "2023-03-07T04:13:53.640Z"
   },
   {
    "duration": 13,
    "start_time": "2023-03-07T04:13:53.656Z"
   },
   {
    "duration": 27,
    "start_time": "2023-03-07T04:13:53.670Z"
   },
   {
    "duration": 13,
    "start_time": "2023-03-07T04:13:53.699Z"
   },
   {
    "duration": 10,
    "start_time": "2023-03-07T04:30:22.633Z"
   },
   {
    "duration": 414,
    "start_time": "2023-03-07T04:30:48.817Z"
   },
   {
    "duration": 348,
    "start_time": "2023-03-07T04:30:59.848Z"
   },
   {
    "duration": 114,
    "start_time": "2023-03-07T04:31:16.280Z"
   },
   {
    "duration": 18,
    "start_time": "2023-03-07T04:31:19.935Z"
   },
   {
    "duration": 19,
    "start_time": "2023-03-07T04:31:30.590Z"
   },
   {
    "duration": 1006,
    "start_time": "2023-03-07T04:31:45.871Z"
   },
   {
    "duration": 123,
    "start_time": "2023-03-07T04:31:46.879Z"
   },
   {
    "duration": 4,
    "start_time": "2023-03-07T04:31:47.004Z"
   },
   {
    "duration": 7,
    "start_time": "2023-03-07T04:31:47.010Z"
   },
   {
    "duration": 23,
    "start_time": "2023-03-07T04:31:47.018Z"
   },
   {
    "duration": 18,
    "start_time": "2023-03-07T04:31:47.043Z"
   },
   {
    "duration": 17,
    "start_time": "2023-03-07T04:31:47.062Z"
   },
   {
    "duration": 3,
    "start_time": "2023-03-07T04:31:47.080Z"
   },
   {
    "duration": 11,
    "start_time": "2023-03-07T04:31:47.084Z"
   },
   {
    "duration": 40,
    "start_time": "2023-03-07T04:31:47.097Z"
   },
   {
    "duration": 11,
    "start_time": "2023-03-07T04:31:47.138Z"
   },
   {
    "duration": 11,
    "start_time": "2023-03-07T04:31:47.151Z"
   },
   {
    "duration": 7,
    "start_time": "2023-03-07T04:31:47.163Z"
   },
   {
    "duration": 1534,
    "start_time": "2023-03-07T04:31:47.171Z"
   },
   {
    "duration": 259,
    "start_time": "2023-03-07T04:31:48.706Z"
   },
   {
    "duration": 186,
    "start_time": "2023-03-07T04:31:48.967Z"
   },
   {
    "duration": 6,
    "start_time": "2023-03-07T04:31:49.154Z"
   },
   {
    "duration": 271,
    "start_time": "2023-03-07T04:31:49.162Z"
   },
   {
    "duration": 7,
    "start_time": "2023-03-07T04:31:49.435Z"
   },
   {
    "duration": 180,
    "start_time": "2023-03-07T04:31:49.444Z"
   },
   {
    "duration": 282,
    "start_time": "2023-03-07T04:31:49.626Z"
   },
   {
    "duration": 6,
    "start_time": "2023-03-07T04:31:49.909Z"
   },
   {
    "duration": 220,
    "start_time": "2023-03-07T04:31:49.916Z"
   },
   {
    "duration": 5,
    "start_time": "2023-03-07T04:31:50.138Z"
   },
   {
    "duration": 151,
    "start_time": "2023-03-07T04:31:50.145Z"
   },
   {
    "duration": 5,
    "start_time": "2023-03-07T04:31:50.299Z"
   },
   {
    "duration": 140,
    "start_time": "2023-03-07T04:31:50.306Z"
   },
   {
    "duration": 7,
    "start_time": "2023-03-07T04:31:50.450Z"
   },
   {
    "duration": 24,
    "start_time": "2023-03-07T04:31:50.459Z"
   },
   {
    "duration": 10,
    "start_time": "2023-03-07T04:31:50.485Z"
   },
   {
    "duration": 15,
    "start_time": "2023-03-07T04:31:50.497Z"
   },
   {
    "duration": 18,
    "start_time": "2023-03-07T04:31:50.513Z"
   },
   {
    "duration": 19,
    "start_time": "2023-03-07T04:31:50.532Z"
   },
   {
    "duration": 8,
    "start_time": "2023-03-07T04:31:50.553Z"
   },
   {
    "duration": 47,
    "start_time": "2023-03-07T04:31:50.562Z"
   },
   {
    "duration": 12,
    "start_time": "2023-03-07T04:31:50.611Z"
   },
   {
    "duration": 80,
    "start_time": "2023-03-07T04:53:26.553Z"
   },
   {
    "duration": 7,
    "start_time": "2023-03-07T04:53:27.583Z"
   },
   {
    "duration": 19,
    "start_time": "2023-03-07T04:53:29.944Z"
   },
   {
    "duration": 1057,
    "start_time": "2023-03-07T05:10:56.226Z"
   },
   {
    "duration": 114,
    "start_time": "2023-03-07T05:10:57.285Z"
   },
   {
    "duration": 3,
    "start_time": "2023-03-07T05:10:57.401Z"
   },
   {
    "duration": 5,
    "start_time": "2023-03-07T05:10:57.406Z"
   },
   {
    "duration": 29,
    "start_time": "2023-03-07T05:10:57.412Z"
   },
   {
    "duration": 23,
    "start_time": "2023-03-07T05:10:57.442Z"
   },
   {
    "duration": 19,
    "start_time": "2023-03-07T05:10:57.466Z"
   },
   {
    "duration": 3,
    "start_time": "2023-03-07T05:10:57.487Z"
   },
   {
    "duration": 40,
    "start_time": "2023-03-07T05:10:57.492Z"
   },
   {
    "duration": 14,
    "start_time": "2023-03-07T05:10:57.536Z"
   },
   {
    "duration": 13,
    "start_time": "2023-03-07T05:10:57.552Z"
   },
   {
    "duration": 16,
    "start_time": "2023-03-07T05:10:57.566Z"
   },
   {
    "duration": 1618,
    "start_time": "2023-03-07T05:10:57.583Z"
   },
   {
    "duration": 271,
    "start_time": "2023-03-07T05:10:59.203Z"
   },
   {
    "duration": 211,
    "start_time": "2023-03-07T05:10:59.476Z"
   },
   {
    "duration": 7,
    "start_time": "2023-03-07T05:10:59.689Z"
   },
   {
    "duration": 324,
    "start_time": "2023-03-07T05:10:59.697Z"
   },
   {
    "duration": 13,
    "start_time": "2023-03-07T05:11:00.023Z"
   },
   {
    "duration": 195,
    "start_time": "2023-03-07T05:11:00.038Z"
   },
   {
    "duration": 298,
    "start_time": "2023-03-07T05:11:00.235Z"
   },
   {
    "duration": 7,
    "start_time": "2023-03-07T05:11:00.535Z"
   },
   {
    "duration": 243,
    "start_time": "2023-03-07T05:11:00.544Z"
   },
   {
    "duration": 5,
    "start_time": "2023-03-07T05:11:00.788Z"
   },
   {
    "duration": 167,
    "start_time": "2023-03-07T05:11:00.794Z"
   },
   {
    "duration": 4,
    "start_time": "2023-03-07T05:11:00.963Z"
   },
   {
    "duration": 147,
    "start_time": "2023-03-07T05:11:00.969Z"
   },
   {
    "duration": 13,
    "start_time": "2023-03-07T05:11:01.118Z"
   },
   {
    "duration": 33,
    "start_time": "2023-03-07T05:11:01.134Z"
   },
   {
    "duration": 43,
    "start_time": "2023-03-07T05:11:01.169Z"
   },
   {
    "duration": 23,
    "start_time": "2023-03-07T05:11:01.213Z"
   },
   {
    "duration": 34,
    "start_time": "2023-03-07T05:11:01.238Z"
   },
   {
    "duration": 55,
    "start_time": "2023-03-07T05:11:01.274Z"
   },
   {
    "duration": 39,
    "start_time": "2023-03-07T05:11:01.331Z"
   },
   {
    "duration": 50,
    "start_time": "2023-03-07T05:11:01.372Z"
   },
   {
    "duration": 43,
    "start_time": "2023-03-07T05:11:01.423Z"
   },
   {
    "duration": 55,
    "start_time": "2023-03-07T06:27:02.341Z"
   },
   {
    "duration": 1349,
    "start_time": "2023-03-07T06:27:06.928Z"
   },
   {
    "duration": 309,
    "start_time": "2023-03-07T06:27:08.279Z"
   },
   {
    "duration": 4,
    "start_time": "2023-03-07T06:27:08.589Z"
   },
   {
    "duration": 6,
    "start_time": "2023-03-07T06:27:08.596Z"
   },
   {
    "duration": 26,
    "start_time": "2023-03-07T06:27:08.604Z"
   },
   {
    "duration": 24,
    "start_time": "2023-03-07T06:27:08.631Z"
   },
   {
    "duration": 23,
    "start_time": "2023-03-07T06:27:08.659Z"
   },
   {
    "duration": 13,
    "start_time": "2023-03-07T06:27:08.684Z"
   },
   {
    "duration": 13,
    "start_time": "2023-03-07T06:27:08.698Z"
   },
   {
    "duration": 8,
    "start_time": "2023-03-07T06:27:08.713Z"
   },
   {
    "duration": 39,
    "start_time": "2023-03-07T06:27:08.723Z"
   },
   {
    "duration": 15,
    "start_time": "2023-03-07T06:27:08.766Z"
   },
   {
    "duration": 9,
    "start_time": "2023-03-07T06:27:08.783Z"
   },
   {
    "duration": 1799,
    "start_time": "2023-03-07T06:27:08.794Z"
   },
   {
    "duration": 320,
    "start_time": "2023-03-07T06:27:10.595Z"
   },
   {
    "duration": 223,
    "start_time": "2023-03-07T06:27:10.917Z"
   },
   {
    "duration": 20,
    "start_time": "2023-03-07T06:27:11.142Z"
   },
   {
    "duration": 356,
    "start_time": "2023-03-07T06:27:11.164Z"
   },
   {
    "duration": 8,
    "start_time": "2023-03-07T06:27:11.522Z"
   },
   {
    "duration": 222,
    "start_time": "2023-03-07T06:27:11.532Z"
   },
   {
    "duration": 302,
    "start_time": "2023-03-07T06:27:11.756Z"
   },
   {
    "duration": 7,
    "start_time": "2023-03-07T06:27:12.060Z"
   },
   {
    "duration": 210,
    "start_time": "2023-03-07T06:27:12.068Z"
   },
   {
    "duration": 5,
    "start_time": "2023-03-07T06:27:12.280Z"
   },
   {
    "duration": 150,
    "start_time": "2023-03-07T06:27:12.287Z"
   },
   {
    "duration": 12,
    "start_time": "2023-03-07T06:27:12.439Z"
   },
   {
    "duration": 180,
    "start_time": "2023-03-07T06:27:12.458Z"
   },
   {
    "duration": 21,
    "start_time": "2023-03-07T06:27:12.641Z"
   },
   {
    "duration": 59,
    "start_time": "2023-03-07T06:27:12.668Z"
   },
   {
    "duration": 11,
    "start_time": "2023-03-07T06:27:12.729Z"
   },
   {
    "duration": 6,
    "start_time": "2023-03-07T06:27:12.742Z"
   },
   {
    "duration": 52,
    "start_time": "2023-03-07T06:27:12.750Z"
   },
   {
    "duration": 10,
    "start_time": "2023-03-07T06:27:12.804Z"
   },
   {
    "duration": 19,
    "start_time": "2023-03-07T06:27:12.815Z"
   },
   {
    "duration": 50,
    "start_time": "2023-03-07T06:27:12.836Z"
   },
   {
    "duration": 22,
    "start_time": "2023-03-07T06:27:12.888Z"
   },
   {
    "duration": 7,
    "start_time": "2023-03-07T06:27:40.531Z"
   },
   {
    "duration": 15,
    "start_time": "2023-03-07T06:27:53.047Z"
   },
   {
    "duration": 16,
    "start_time": "2023-03-07T06:28:02.585Z"
   },
   {
    "duration": 9,
    "start_time": "2023-03-07T06:30:01.895Z"
   },
   {
    "duration": 8,
    "start_time": "2023-03-07T06:31:23.882Z"
   },
   {
    "duration": 12,
    "start_time": "2023-03-07T06:31:41.854Z"
   },
   {
    "duration": 103,
    "start_time": "2023-03-07T06:31:54.879Z"
   },
   {
    "duration": 25,
    "start_time": "2023-03-07T06:32:02.941Z"
   },
   {
    "duration": 6,
    "start_time": "2023-03-07T06:33:40.586Z"
   },
   {
    "duration": 7,
    "start_time": "2023-03-07T06:33:46.775Z"
   },
   {
    "duration": 8,
    "start_time": "2023-03-07T06:33:58.370Z"
   },
   {
    "duration": 8,
    "start_time": "2023-03-07T06:34:16.219Z"
   },
   {
    "duration": 5,
    "start_time": "2023-03-07T06:34:17.506Z"
   },
   {
    "duration": 16,
    "start_time": "2023-03-07T06:34:21.760Z"
   },
   {
    "duration": 1298,
    "start_time": "2023-03-07T06:35:32.208Z"
   },
   {
    "duration": 4,
    "start_time": "2023-03-07T06:36:09.212Z"
   },
   {
    "duration": 5,
    "start_time": "2023-03-07T06:36:20.527Z"
   },
   {
    "duration": 10,
    "start_time": "2023-03-07T06:36:26.338Z"
   },
   {
    "duration": 4,
    "start_time": "2023-03-07T06:36:43.705Z"
   },
   {
    "duration": 4,
    "start_time": "2023-03-07T06:37:07.722Z"
   },
   {
    "duration": 4,
    "start_time": "2023-03-07T06:39:31.004Z"
   },
   {
    "duration": 106,
    "start_time": "2023-03-07T06:41:41.226Z"
   },
   {
    "duration": 101,
    "start_time": "2023-03-07T06:42:09.337Z"
   },
   {
    "duration": 222,
    "start_time": "2023-03-07T06:42:17.579Z"
   },
   {
    "duration": 117,
    "start_time": "2023-03-07T06:42:26.409Z"
   },
   {
    "duration": 10,
    "start_time": "2023-03-07T06:42:59.571Z"
   },
   {
    "duration": 6,
    "start_time": "2023-03-07T06:43:12.819Z"
   },
   {
    "duration": 6,
    "start_time": "2023-03-07T06:43:17.009Z"
   },
   {
    "duration": 8,
    "start_time": "2023-03-07T06:43:36.105Z"
   },
   {
    "duration": 7,
    "start_time": "2023-03-07T06:43:42.033Z"
   },
   {
    "duration": 4,
    "start_time": "2023-03-07T06:49:49.352Z"
   },
   {
    "duration": 6,
    "start_time": "2023-03-07T06:49:59.128Z"
   },
   {
    "duration": 4,
    "start_time": "2023-03-07T06:50:49.608Z"
   },
   {
    "duration": 4,
    "start_time": "2023-03-07T06:51:00.479Z"
   },
   {
    "duration": 6,
    "start_time": "2023-03-07T06:51:11.472Z"
   },
   {
    "duration": 9,
    "start_time": "2023-03-07T06:51:49.224Z"
   },
   {
    "duration": 6,
    "start_time": "2023-03-07T06:52:25.360Z"
   },
   {
    "duration": 6,
    "start_time": "2023-03-07T06:52:27.433Z"
   },
   {
    "duration": 4,
    "start_time": "2023-03-07T06:52:29.185Z"
   },
   {
    "duration": 14,
    "start_time": "2023-03-07T06:52:32.048Z"
   },
   {
    "duration": 9,
    "start_time": "2023-03-07T06:52:40.672Z"
   },
   {
    "duration": 1468,
    "start_time": "2023-03-07T06:52:41.682Z"
   },
   {
    "duration": 200,
    "start_time": "2023-03-07T06:52:43.152Z"
   },
   {
    "duration": 165,
    "start_time": "2023-03-07T06:53:08.087Z"
   },
   {
    "duration": 137,
    "start_time": "2023-03-07T06:53:19.616Z"
   },
   {
    "duration": 279,
    "start_time": "2023-03-07T06:58:13.288Z"
   },
   {
    "duration": 210,
    "start_time": "2023-03-07T06:58:21.793Z"
   },
   {
    "duration": 208,
    "start_time": "2023-03-07T06:58:28.320Z"
   },
   {
    "duration": 9,
    "start_time": "2023-03-07T06:59:24.688Z"
   },
   {
    "duration": 1568,
    "start_time": "2023-03-07T06:59:25.233Z"
   },
   {
    "duration": 207,
    "start_time": "2023-03-07T06:59:26.802Z"
   },
   {
    "duration": 239,
    "start_time": "2023-03-07T06:59:55.689Z"
   },
   {
    "duration": 225,
    "start_time": "2023-03-07T07:00:03.208Z"
   },
   {
    "duration": 6,
    "start_time": "2023-03-07T07:00:14.823Z"
   },
   {
    "duration": 301,
    "start_time": "2023-03-07T07:00:16.447Z"
   },
   {
    "duration": 318,
    "start_time": "2023-03-07T07:00:28.266Z"
   },
   {
    "duration": 8,
    "start_time": "2023-03-07T07:00:35.421Z"
   },
   {
    "duration": 238,
    "start_time": "2023-03-07T07:00:40.535Z"
   },
   {
    "duration": 322,
    "start_time": "2023-03-07T07:01:12.673Z"
   },
   {
    "duration": 9,
    "start_time": "2023-03-07T07:01:35.370Z"
   },
   {
    "duration": 185,
    "start_time": "2023-03-07T07:01:39.310Z"
   },
   {
    "duration": 6,
    "start_time": "2023-03-07T07:01:50.038Z"
   },
   {
    "duration": 253,
    "start_time": "2023-03-07T07:02:05.223Z"
   },
   {
    "duration": 196,
    "start_time": "2023-03-07T07:02:40.655Z"
   },
   {
    "duration": 5,
    "start_time": "2023-03-07T07:06:10.190Z"
   },
   {
    "duration": 129,
    "start_time": "2023-03-07T07:06:49.711Z"
   },
   {
    "duration": 9,
    "start_time": "2023-03-07T07:07:00.526Z"
   },
   {
    "duration": 22,
    "start_time": "2023-03-07T07:07:11.390Z"
   },
   {
    "duration": 138,
    "start_time": "2023-03-07T07:13:57.997Z"
   },
   {
    "duration": 144,
    "start_time": "2023-03-07T07:14:00.887Z"
   },
   {
    "duration": 8,
    "start_time": "2023-03-07T07:14:02.173Z"
   },
   {
    "duration": 23,
    "start_time": "2023-03-07T07:17:00.715Z"
   },
   {
    "duration": 14,
    "start_time": "2023-03-07T07:20:23.158Z"
   },
   {
    "duration": 7,
    "start_time": "2023-03-07T07:23:05.397Z"
   },
   {
    "duration": 4,
    "start_time": "2023-03-07T07:23:10.133Z"
   },
   {
    "duration": 9,
    "start_time": "2023-03-07T07:23:28.851Z"
   },
   {
    "duration": 4,
    "start_time": "2023-03-07T07:24:33.277Z"
   },
   {
    "duration": 6,
    "start_time": "2023-03-07T07:27:11.404Z"
   },
   {
    "duration": 10,
    "start_time": "2023-03-07T07:27:14.792Z"
   },
   {
    "duration": 29,
    "start_time": "2023-03-07T07:27:30.726Z"
   },
   {
    "duration": 20,
    "start_time": "2023-03-07T07:30:05.037Z"
   },
   {
    "duration": 1188,
    "start_time": "2023-03-07T07:49:56.883Z"
   },
   {
    "duration": 161,
    "start_time": "2023-03-07T07:49:58.073Z"
   },
   {
    "duration": 4,
    "start_time": "2023-03-07T07:49:58.236Z"
   },
   {
    "duration": 28,
    "start_time": "2023-03-07T07:49:58.242Z"
   },
   {
    "duration": 52,
    "start_time": "2023-03-07T07:49:58.274Z"
   },
   {
    "duration": 32,
    "start_time": "2023-03-07T07:49:58.328Z"
   },
   {
    "duration": 28,
    "start_time": "2023-03-07T07:49:58.373Z"
   },
   {
    "duration": 4,
    "start_time": "2023-03-07T07:49:58.404Z"
   },
   {
    "duration": 17,
    "start_time": "2023-03-07T07:49:58.410Z"
   },
   {
    "duration": 8,
    "start_time": "2023-03-07T07:49:58.429Z"
   },
   {
    "duration": 26,
    "start_time": "2023-03-07T07:49:58.439Z"
   },
   {
    "duration": 42,
    "start_time": "2023-03-07T07:49:58.469Z"
   },
   {
    "duration": 28,
    "start_time": "2023-03-07T07:49:58.513Z"
   },
   {
    "duration": 20,
    "start_time": "2023-03-07T07:49:58.547Z"
   },
   {
    "duration": 24,
    "start_time": "2023-03-07T07:49:58.569Z"
   },
   {
    "duration": 1500,
    "start_time": "2023-03-07T07:49:58.596Z"
   },
   {
    "duration": 337,
    "start_time": "2023-03-07T07:50:00.098Z"
   },
   {
    "duration": 252,
    "start_time": "2023-03-07T07:50:00.437Z"
   },
   {
    "duration": 8,
    "start_time": "2023-03-07T07:50:00.691Z"
   },
   {
    "duration": 413,
    "start_time": "2023-03-07T07:50:00.701Z"
   },
   {
    "duration": 10,
    "start_time": "2023-03-07T07:50:01.115Z"
   },
   {
    "duration": 317,
    "start_time": "2023-03-07T07:50:01.126Z"
   },
   {
    "duration": 367,
    "start_time": "2023-03-07T07:50:01.445Z"
   },
   {
    "duration": 8,
    "start_time": "2023-03-07T07:50:01.814Z"
   },
   {
    "duration": 309,
    "start_time": "2023-03-07T07:50:01.824Z"
   },
   {
    "duration": 6,
    "start_time": "2023-03-07T07:50:02.136Z"
   },
   {
    "duration": 338,
    "start_time": "2023-03-07T07:50:02.144Z"
   },
   {
    "duration": 211,
    "start_time": "2023-03-07T07:50:02.483Z"
   },
   {
    "duration": 5,
    "start_time": "2023-03-07T07:50:02.697Z"
   },
   {
    "duration": 194,
    "start_time": "2023-03-07T07:50:02.704Z"
   },
   {
    "duration": 8,
    "start_time": "2023-03-07T07:50:02.901Z"
   },
   {
    "duration": 39,
    "start_time": "2023-03-07T07:50:02.912Z"
   },
   {
    "duration": 16,
    "start_time": "2023-03-07T07:50:02.957Z"
   },
   {
    "duration": 7,
    "start_time": "2023-03-07T07:50:02.977Z"
   },
   {
    "duration": 11,
    "start_time": "2023-03-07T07:50:02.986Z"
   },
   {
    "duration": 12,
    "start_time": "2023-03-07T07:50:03.000Z"
   },
   {
    "duration": 11,
    "start_time": "2023-03-07T07:50:03.014Z"
   },
   {
    "duration": 9,
    "start_time": "2023-03-07T07:50:03.027Z"
   },
   {
    "duration": 48,
    "start_time": "2023-03-07T07:50:03.054Z"
   },
   {
    "duration": 19,
    "start_time": "2023-03-07T07:50:03.105Z"
   },
   {
    "duration": 205,
    "start_time": "2023-03-07T07:52:08.490Z"
   },
   {
    "duration": 165,
    "start_time": "2023-03-07T07:52:25.505Z"
   },
   {
    "duration": 183,
    "start_time": "2023-03-07T07:52:45.329Z"
   },
   {
    "duration": 182,
    "start_time": "2023-03-07T07:54:21.129Z"
   },
   {
    "duration": 164,
    "start_time": "2023-03-07T07:54:23.678Z"
   },
   {
    "duration": 5,
    "start_time": "2023-03-07T07:54:30.241Z"
   },
   {
    "duration": 1195,
    "start_time": "2023-03-07T07:55:04.485Z"
   },
   {
    "duration": 140,
    "start_time": "2023-03-07T07:55:05.683Z"
   },
   {
    "duration": 3,
    "start_time": "2023-03-07T07:55:05.825Z"
   },
   {
    "duration": 7,
    "start_time": "2023-03-07T07:55:05.830Z"
   },
   {
    "duration": 31,
    "start_time": "2023-03-07T07:55:05.839Z"
   },
   {
    "duration": 20,
    "start_time": "2023-03-07T07:55:05.872Z"
   },
   {
    "duration": 18,
    "start_time": "2023-03-07T07:55:05.894Z"
   },
   {
    "duration": 3,
    "start_time": "2023-03-07T07:55:05.914Z"
   },
   {
    "duration": 39,
    "start_time": "2023-03-07T07:55:05.918Z"
   },
   {
    "duration": 21,
    "start_time": "2023-03-07T07:55:05.959Z"
   },
   {
    "duration": 18,
    "start_time": "2023-03-07T07:55:05.982Z"
   },
   {
    "duration": 5,
    "start_time": "2023-03-07T07:55:06.002Z"
   },
   {
    "duration": 17,
    "start_time": "2023-03-07T07:55:06.010Z"
   },
   {
    "duration": 38,
    "start_time": "2023-03-07T07:55:06.030Z"
   },
   {
    "duration": 13,
    "start_time": "2023-03-07T07:55:06.070Z"
   },
   {
    "duration": 1532,
    "start_time": "2023-03-07T07:55:06.085Z"
   },
   {
    "duration": 306,
    "start_time": "2023-03-07T07:55:07.618Z"
   },
   {
    "duration": 244,
    "start_time": "2023-03-07T07:55:07.926Z"
   },
   {
    "duration": 8,
    "start_time": "2023-03-07T07:55:08.173Z"
   },
   {
    "duration": 301,
    "start_time": "2023-03-07T07:55:08.182Z"
   },
   {
    "duration": 10,
    "start_time": "2023-03-07T07:55:08.484Z"
   },
   {
    "duration": 223,
    "start_time": "2023-03-07T07:55:08.495Z"
   },
   {
    "duration": 345,
    "start_time": "2023-03-07T07:55:08.721Z"
   },
   {
    "duration": 7,
    "start_time": "2023-03-07T07:55:09.069Z"
   },
   {
    "duration": 188,
    "start_time": "2023-03-07T07:55:09.078Z"
   },
   {
    "duration": 6,
    "start_time": "2023-03-07T07:55:09.268Z"
   },
   {
    "duration": 231,
    "start_time": "2023-03-07T07:55:09.276Z"
   },
   {
    "duration": 168,
    "start_time": "2023-03-07T07:55:09.509Z"
   },
   {
    "duration": 5,
    "start_time": "2023-03-07T07:55:09.679Z"
   },
   {
    "duration": 161,
    "start_time": "2023-03-07T07:55:09.685Z"
   },
   {
    "duration": 9,
    "start_time": "2023-03-07T07:55:09.848Z"
   },
   {
    "duration": 38,
    "start_time": "2023-03-07T07:55:09.858Z"
   },
   {
    "duration": 12,
    "start_time": "2023-03-07T07:55:09.898Z"
   },
   {
    "duration": 6,
    "start_time": "2023-03-07T07:55:09.912Z"
   },
   {
    "duration": 6,
    "start_time": "2023-03-07T07:55:09.920Z"
   },
   {
    "duration": 29,
    "start_time": "2023-03-07T07:55:09.928Z"
   },
   {
    "duration": 13,
    "start_time": "2023-03-07T07:55:09.959Z"
   },
   {
    "duration": 17,
    "start_time": "2023-03-07T07:55:09.974Z"
   },
   {
    "duration": 26,
    "start_time": "2023-03-07T07:55:09.993Z"
   },
   {
    "duration": 16,
    "start_time": "2023-03-07T07:55:10.021Z"
   },
   {
    "duration": 1089,
    "start_time": "2023-03-07T16:41:32.604Z"
   },
   {
    "duration": 112,
    "start_time": "2023-03-07T16:41:33.695Z"
   },
   {
    "duration": 3,
    "start_time": "2023-03-07T16:41:33.809Z"
   },
   {
    "duration": 8,
    "start_time": "2023-03-07T16:41:33.814Z"
   },
   {
    "duration": 26,
    "start_time": "2023-03-07T16:41:33.823Z"
   },
   {
    "duration": 19,
    "start_time": "2023-03-07T16:41:33.850Z"
   },
   {
    "duration": 23,
    "start_time": "2023-03-07T16:41:33.870Z"
   },
   {
    "duration": 3,
    "start_time": "2023-03-07T16:41:33.894Z"
   },
   {
    "duration": 6,
    "start_time": "2023-03-07T16:41:33.930Z"
   },
   {
    "duration": 9,
    "start_time": "2023-03-07T16:41:33.939Z"
   },
   {
    "duration": 9,
    "start_time": "2023-03-07T16:41:33.949Z"
   },
   {
    "duration": 8,
    "start_time": "2023-03-07T16:41:33.960Z"
   },
   {
    "duration": 13,
    "start_time": "2023-03-07T16:41:33.969Z"
   },
   {
    "duration": 12,
    "start_time": "2023-03-07T16:41:33.983Z"
   },
   {
    "duration": 39,
    "start_time": "2023-03-07T16:41:33.997Z"
   },
   {
    "duration": 1370,
    "start_time": "2023-03-07T16:41:34.038Z"
   },
   {
    "duration": 285,
    "start_time": "2023-03-07T16:41:35.410Z"
   },
   {
    "duration": 226,
    "start_time": "2023-03-07T16:41:35.697Z"
   },
   {
    "duration": 7,
    "start_time": "2023-03-07T16:41:35.924Z"
   },
   {
    "duration": 330,
    "start_time": "2023-03-07T16:41:35.932Z"
   },
   {
    "duration": 26,
    "start_time": "2023-03-07T16:41:36.264Z"
   },
   {
    "duration": 240,
    "start_time": "2023-03-07T16:41:36.292Z"
   },
   {
    "duration": 337,
    "start_time": "2023-03-07T16:41:36.535Z"
   },
   {
    "duration": 6,
    "start_time": "2023-03-07T16:41:36.874Z"
   },
   {
    "duration": 177,
    "start_time": "2023-03-07T16:41:36.882Z"
   },
   {
    "duration": 4,
    "start_time": "2023-03-07T16:41:37.061Z"
   },
   {
    "duration": 224,
    "start_time": "2023-03-07T16:41:37.067Z"
   },
   {
    "duration": 167,
    "start_time": "2023-03-07T16:41:37.294Z"
   },
   {
    "duration": 4,
    "start_time": "2023-03-07T16:41:37.463Z"
   },
   {
    "duration": 130,
    "start_time": "2023-03-07T16:41:37.468Z"
   },
   {
    "duration": 7,
    "start_time": "2023-03-07T16:41:37.600Z"
   },
   {
    "duration": 38,
    "start_time": "2023-03-07T16:41:37.608Z"
   },
   {
    "duration": 11,
    "start_time": "2023-03-07T16:41:37.647Z"
   },
   {
    "duration": 12,
    "start_time": "2023-03-07T16:41:37.660Z"
   },
   {
    "duration": 11,
    "start_time": "2023-03-07T16:41:37.674Z"
   },
   {
    "duration": 6,
    "start_time": "2023-03-07T16:41:37.687Z"
   },
   {
    "duration": 7,
    "start_time": "2023-03-07T16:41:37.694Z"
   },
   {
    "duration": 9,
    "start_time": "2023-03-07T16:41:37.702Z"
   },
   {
    "duration": 37,
    "start_time": "2023-03-07T16:41:37.713Z"
   },
   {
    "duration": 12,
    "start_time": "2023-03-07T16:41:37.751Z"
   },
   {
    "duration": 1121,
    "start_time": "2023-03-07T17:00:13.209Z"
   },
   {
    "duration": 118,
    "start_time": "2023-03-07T17:00:14.332Z"
   },
   {
    "duration": 4,
    "start_time": "2023-03-07T17:00:14.451Z"
   },
   {
    "duration": 10,
    "start_time": "2023-03-07T17:00:14.457Z"
   },
   {
    "duration": 37,
    "start_time": "2023-03-07T17:00:14.469Z"
   },
   {
    "duration": 31,
    "start_time": "2023-03-07T17:00:14.507Z"
   },
   {
    "duration": 16,
    "start_time": "2023-03-07T17:00:14.540Z"
   },
   {
    "duration": 2,
    "start_time": "2023-03-07T17:00:14.558Z"
   },
   {
    "duration": 23,
    "start_time": "2023-03-07T17:00:14.562Z"
   },
   {
    "duration": 11,
    "start_time": "2023-03-07T17:00:14.588Z"
   },
   {
    "duration": 10,
    "start_time": "2023-03-07T17:00:14.600Z"
   },
   {
    "duration": 5,
    "start_time": "2023-03-07T17:00:14.612Z"
   },
   {
    "duration": 20,
    "start_time": "2023-03-07T17:00:14.618Z"
   },
   {
    "duration": 14,
    "start_time": "2023-03-07T17:00:14.639Z"
   },
   {
    "duration": 7,
    "start_time": "2023-03-07T17:00:14.654Z"
   },
   {
    "duration": 1388,
    "start_time": "2023-03-07T17:00:14.663Z"
   },
   {
    "duration": 283,
    "start_time": "2023-03-07T17:00:16.053Z"
   },
   {
    "duration": 217,
    "start_time": "2023-03-07T17:00:16.337Z"
   },
   {
    "duration": 5,
    "start_time": "2023-03-07T17:00:16.556Z"
   },
   {
    "duration": 301,
    "start_time": "2023-03-07T17:00:16.563Z"
   },
   {
    "duration": 11,
    "start_time": "2023-03-07T17:00:16.866Z"
   },
   {
    "duration": 248,
    "start_time": "2023-03-07T17:00:16.878Z"
   },
   {
    "duration": 310,
    "start_time": "2023-03-07T17:00:17.130Z"
   },
   {
    "duration": 6,
    "start_time": "2023-03-07T17:00:17.442Z"
   },
   {
    "duration": 175,
    "start_time": "2023-03-07T17:00:17.449Z"
   },
   {
    "duration": 7,
    "start_time": "2023-03-07T17:00:17.626Z"
   },
   {
    "duration": 235,
    "start_time": "2023-03-07T17:00:17.635Z"
   },
   {
    "duration": 192,
    "start_time": "2023-03-07T17:00:17.874Z"
   },
   {
    "duration": 5,
    "start_time": "2023-03-07T17:00:18.068Z"
   },
   {
    "duration": 133,
    "start_time": "2023-03-07T17:00:18.075Z"
   },
   {
    "duration": 8,
    "start_time": "2023-03-07T17:00:18.210Z"
   },
   {
    "duration": 35,
    "start_time": "2023-03-07T17:00:18.220Z"
   },
   {
    "duration": 13,
    "start_time": "2023-03-07T17:00:18.256Z"
   },
   {
    "duration": 8,
    "start_time": "2023-03-07T17:00:18.271Z"
   },
   {
    "duration": 7,
    "start_time": "2023-03-07T17:00:18.281Z"
   },
   {
    "duration": 13,
    "start_time": "2023-03-07T17:00:18.290Z"
   },
   {
    "duration": 28,
    "start_time": "2023-03-07T17:00:18.305Z"
   },
   {
    "duration": 11,
    "start_time": "2023-03-07T17:00:18.336Z"
   },
   {
    "duration": 26,
    "start_time": "2023-03-07T17:00:18.349Z"
   },
   {
    "duration": 13,
    "start_time": "2023-03-07T17:00:18.376Z"
   }
  ],
  "kernelspec": {
   "display_name": "Python 3 (ipykernel)",
   "language": "python",
   "name": "python3"
  },
  "language_info": {
   "codemirror_mode": {
    "name": "ipython",
    "version": 3
   },
   "file_extension": ".py",
   "mimetype": "text/x-python",
   "name": "python",
   "nbconvert_exporter": "python",
   "pygments_lexer": "ipython3",
   "version": "3.9.15"
  },
  "toc": {
   "base_numbering": 1,
   "nav_menu": {},
   "number_sections": true,
   "sideBar": true,
   "skip_h1_title": true,
   "title_cell": "Содержание",
   "title_sidebar": "Содержание",
   "toc_cell": true,
   "toc_position": {},
   "toc_section_display": true,
   "toc_window_display": false
  }
 },
 "nbformat": 4,
 "nbformat_minor": 2
}
